{
 "cells": [
  {
   "cell_type": "markdown",
   "metadata": {
    "id": "Cuh2nT20suxj",
    "jp-MarkdownHeadingCollapsed": true,
    "tags": []
   },
   "source": [
    "## Harsh Kotwani\n",
    "### 190413107017 - LYCE 2-D\n",
    "ML Practicals."
   ]
  },
  {
   "cell_type": "markdown",
   "metadata": {
    "id": "CsSUHR8Cs9vV",
    "tags": []
   },
   "source": [
    "# Practical 1\n",
    "Study of following python tools/libraries in Brief \n",
    "- Numpy \n",
    "- Pandas\n",
    "- SciKit Learn \n",
    "- Keras\n",
    "- Tensor flow"
   ]
  },
  {
   "cell_type": "code",
   "execution_count": 32,
   "metadata": {
    "id": "bbm05Npespif"
   },
   "outputs": [],
   "source": [
    "import numpy as np\n",
    "import copy"
   ]
  },
  {
   "cell_type": "code",
   "execution_count": 33,
   "metadata": {
    "colab": {
     "base_uri": "https://localhost:8080/"
    },
    "id": "o4LA7zy4tNr-",
    "outputId": "de91b548-fe1c-457d-ba0b-cbcd8566e92c"
   },
   "outputs": [
    {
     "data": {
      "text/plain": [
       "(3, 4)"
      ]
     },
     "execution_count": 33,
     "metadata": {},
     "output_type": "execute_result"
    }
   ],
   "source": [
    "#Shape\n",
    "arr = np.array([[1, 2, 3, 4], [5, 6, 7, 8], [9, 10, 11, 12]])\n",
    "arr.shape"
   ]
  },
  {
   "cell_type": "code",
   "execution_count": 34,
   "metadata": {
    "colab": {
     "base_uri": "https://localhost:8080/"
    },
    "id": "aZQteH8jtQ7K",
    "outputId": "655607e5-c9d4-42ef-d6b0-ee83dc28fbf8"
   },
   "outputs": [
    {
     "data": {
      "text/plain": [
       "array([[ 1,  2,  3],\n",
       "       [ 4,  5,  6],\n",
       "       [ 7,  8,  9],\n",
       "       [10, 11, 12]])"
      ]
     },
     "execution_count": 34,
     "metadata": {},
     "output_type": "execute_result"
    }
   ],
   "source": [
    "#Reshape\n",
    "modified_arr = arr.reshape(4,3)\n",
    "modified_arr"
   ]
  },
  {
   "cell_type": "code",
   "execution_count": 35,
   "metadata": {
    "colab": {
     "base_uri": "https://localhost:8080/"
    },
    "id": "tzT5Cmr3tj4k",
    "outputId": "deb6d699-2067-405d-f565-13039adf890c"
   },
   "outputs": [
    {
     "data": {
      "text/plain": [
       "array([ 1,  2,  3,  4,  5,  6,  7,  8,  9, 10, 11, 12])"
      ]
     },
     "execution_count": 35,
     "metadata": {},
     "output_type": "execute_result"
    }
   ],
   "source": [
    "#Flatten\n",
    "arr.flatten()"
   ]
  },
  {
   "cell_type": "code",
   "execution_count": 36,
   "metadata": {
    "colab": {
     "base_uri": "https://localhost:8080/"
    },
    "id": "DH33U3pit6_1",
    "outputId": "5baf2f76-2885-4a49-990d-a4914c459119"
   },
   "outputs": [
    {
     "data": {
      "text/plain": [
       "array([ 1,  2,  3,  4,  5,  6,  7,  8,  9, 10, 11, 12])"
      ]
     },
     "execution_count": 36,
     "metadata": {},
     "output_type": "execute_result"
    }
   ],
   "source": [
    "#Ravel\n",
    "arr.ravel()"
   ]
  },
  {
   "cell_type": "code",
   "execution_count": 37,
   "metadata": {
    "colab": {
     "base_uri": "https://localhost:8080/"
    },
    "id": "GaQ8-bycuSal",
    "outputId": "da1ed84a-6a78-4f24-d9f8-e40ba9f1ec26"
   },
   "outputs": [
    {
     "data": {
      "text/plain": [
       "array([[ 1,  5,  9],\n",
       "       [ 2,  6, 10],\n",
       "       [ 3,  7, 11],\n",
       "       [ 4,  8, 12]])"
      ]
     },
     "execution_count": 37,
     "metadata": {},
     "output_type": "execute_result"
    }
   ],
   "source": [
    "#moveaxis\n",
    "modified_arr = np.moveaxis(arr, 0, -1)\n",
    "modified_arr"
   ]
  },
  {
   "cell_type": "code",
   "execution_count": 38,
   "metadata": {
    "colab": {
     "base_uri": "https://localhost:8080/"
    },
    "id": "qloYV-zXvX4T",
    "outputId": "1025fa32-3c1f-42a0-fd87-5998e6cc113f"
   },
   "outputs": [
    {
     "data": {
      "text/plain": [
       "array([[ 1,  5,  9],\n",
       "       [ 2,  6, 10],\n",
       "       [ 3,  7, 11],\n",
       "       [ 4,  8, 12]])"
      ]
     },
     "execution_count": 38,
     "metadata": {},
     "output_type": "execute_result"
    }
   ],
   "source": [
    "#rollaxis\n",
    "modified_arr = np.rollaxis(arr, 1, 0)\n",
    "modified_arr"
   ]
  },
  {
   "cell_type": "code",
   "execution_count": 39,
   "metadata": {
    "colab": {
     "base_uri": "https://localhost:8080/"
    },
    "id": "1L2NbH9RwK2d",
    "outputId": "5065ea88-517b-4b01-b8c0-537cc898d731"
   },
   "outputs": [
    {
     "data": {
      "text/plain": [
       "array([[ 1,  5,  9],\n",
       "       [ 2,  6, 10],\n",
       "       [ 3,  7, 11],\n",
       "       [ 4,  8, 12]])"
      ]
     },
     "execution_count": 39,
     "metadata": {},
     "output_type": "execute_result"
    }
   ],
   "source": [
    "#transpose\n",
    "arr.transpose()"
   ]
  },
  {
   "cell_type": "code",
   "execution_count": 40,
   "metadata": {
    "colab": {
     "base_uri": "https://localhost:8080/"
    },
    "id": "bCbj5ZVKwuL3",
    "outputId": "c4ff37de-ebdb-4ae9-c6aa-e0a2b4625fc8"
   },
   "outputs": [
    {
     "data": {
      "text/plain": [
       "[array([[1, 2, 3, 4]]), array([[5, 6, 7, 8]]), array([[ 9, 10, 11, 12]])]"
      ]
     },
     "execution_count": 40,
     "metadata": {},
     "output_type": "execute_result"
    }
   ],
   "source": [
    "#split\n",
    "np.split(arr, 3)"
   ]
  },
  {
   "cell_type": "code",
   "execution_count": 41,
   "metadata": {
    "colab": {
     "base_uri": "https://localhost:8080/"
    },
    "id": "JYLTzUu6xX1C",
    "outputId": "2b9fd6c2-f4f7-447c-b14a-822b224fb5a8"
   },
   "outputs": [
    {
     "data": {
      "text/plain": [
       "[array([[ 1,  2],\n",
       "        [ 5,  6],\n",
       "        [ 9, 10]]),\n",
       " array([[ 3,  4],\n",
       "        [ 7,  8],\n",
       "        [11, 12]])]"
      ]
     },
     "execution_count": 41,
     "metadata": {},
     "output_type": "execute_result"
    }
   ],
   "source": [
    "#hsplit\n",
    "np.hsplit(arr, 2)"
   ]
  },
  {
   "cell_type": "code",
   "execution_count": 42,
   "metadata": {
    "colab": {
     "base_uri": "https://localhost:8080/"
    },
    "id": "P0izxV7sx28s",
    "outputId": "c1fe6396-5b29-4017-930e-3cd0287cbb5c"
   },
   "outputs": [
    {
     "data": {
      "text/plain": [
       "[array([[1, 2, 3, 4]]), array([[5, 6, 7, 8]]), array([[ 9, 10, 11, 12]])]"
      ]
     },
     "execution_count": 42,
     "metadata": {},
     "output_type": "execute_result"
    }
   ],
   "source": [
    "#vsplit\n",
    "np.vsplit(arr, 3)"
   ]
  },
  {
   "cell_type": "code",
   "execution_count": 43,
   "metadata": {
    "colab": {
     "base_uri": "https://localhost:8080/"
    },
    "id": "QnOTj_EGyGLB",
    "outputId": "cfb7085d-2b80-40fb-f65d-908875368590"
   },
   "outputs": [
    {
     "data": {
      "text/plain": [
       "[array([[[ 0],\n",
       "         [ 3],\n",
       "         [ 6]],\n",
       " \n",
       "        [[ 9],\n",
       "         [12],\n",
       "         [15]],\n",
       " \n",
       "        [[18],\n",
       "         [21],\n",
       "         [24]]]),\n",
       " array([[[ 1],\n",
       "         [ 4],\n",
       "         [ 7]],\n",
       " \n",
       "        [[10],\n",
       "         [13],\n",
       "         [16]],\n",
       " \n",
       "        [[19],\n",
       "         [22],\n",
       "         [25]]]),\n",
       " array([[[ 2],\n",
       "         [ 5],\n",
       "         [ 8]],\n",
       " \n",
       "        [[11],\n",
       "         [14],\n",
       "         [17]],\n",
       " \n",
       "        [[20],\n",
       "         [23],\n",
       "         [26]]])]"
      ]
     },
     "execution_count": 43,
     "metadata": {},
     "output_type": "execute_result"
    }
   ],
   "source": [
    "new_arr = np.arange(27).reshape(3,3,3)\n",
    "np.dsplit(new_arr, 3)"
   ]
  },
  {
   "cell_type": "code",
   "execution_count": 44,
   "metadata": {
    "colab": {
     "base_uri": "https://localhost:8080/"
    },
    "id": "Wb8NnW-DySJu",
    "outputId": "d4730983-d57e-4e97-9c79-da4af5de0546"
   },
   "outputs": [
    {
     "data": {
      "text/plain": [
       "array([[ 5,  6,  7,  8],\n",
       "       [ 9, 10, 11, 12]])"
      ]
     },
     "execution_count": 44,
     "metadata": {},
     "output_type": "execute_result"
    }
   ],
   "source": [
    "#delete\n",
    "modified_arr = np.delete(arr, 0, 0)\n",
    "modified_arr"
   ]
  },
  {
   "cell_type": "code",
   "execution_count": 45,
   "metadata": {
    "id": "_ywUurUDy4vh"
   },
   "outputs": [
    {
     "data": {
      "text/plain": [
       "array([ 2,  1,  2,  3,  4,  5,  6,  7,  8,  9, 10, 11, 12])"
      ]
     },
     "execution_count": 45,
     "metadata": {},
     "output_type": "execute_result"
    }
   ],
   "source": [
    "#insert\n",
    "np.insert(arr, 0, 2)"
   ]
  },
  {
   "cell_type": "code",
   "execution_count": 46,
   "metadata": {},
   "outputs": [
    {
     "data": {
      "text/plain": [
       "array([ 1,  2,  3,  4,  5,  6,  7,  8,  9, 10, 11, 12, 13, 14, 15, 16])"
      ]
     },
     "execution_count": 46,
     "metadata": {},
     "output_type": "execute_result"
    }
   ],
   "source": [
    "#append\n",
    "np.append(arr, [13, 14, 15, 16])"
   ]
  },
  {
   "cell_type": "code",
   "execution_count": 47,
   "metadata": {},
   "outputs": [
    {
     "data": {
      "text/plain": [
       "array([[ 1,  2,  3,  4],\n",
       "       [ 5,  6,  7,  8],\n",
       "       [ 9, 10, 11, 12],\n",
       "       [ 1,  2,  3,  4],\n",
       "       [ 5,  6,  7,  8],\n",
       "       [ 9, 10, 11, 12]])"
      ]
     },
     "execution_count": 47,
     "metadata": {},
     "output_type": "execute_result"
    }
   ],
   "source": [
    "#resize\n",
    "np.resize(arr, (6, 4))"
   ]
  },
  {
   "cell_type": "code",
   "execution_count": 48,
   "metadata": {},
   "outputs": [
    {
     "data": {
      "text/plain": [
       "array([ 1,  2,  3,  4,  5,  6,  7,  8,  9, 10, 11, 12])"
      ]
     },
     "execution_count": 48,
     "metadata": {},
     "output_type": "execute_result"
    }
   ],
   "source": [
    "#unique\n",
    "modified_arr = np.resize(arr, (6,4))\n",
    "np.unique(modified_arr)"
   ]
  },
  {
   "cell_type": "code",
   "execution_count": 49,
   "metadata": {},
   "outputs": [
    {
     "data": {
      "text/plain": [
       "array([[ 9, 10, 11, 12],\n",
       "       [ 5,  6,  7,  8],\n",
       "       [ 1,  2,  3,  4]])"
      ]
     },
     "execution_count": 49,
     "metadata": {},
     "output_type": "execute_result"
    }
   ],
   "source": [
    "#flip\n",
    "np.flip(arr, 0)"
   ]
  },
  {
   "cell_type": "code",
   "execution_count": 50,
   "metadata": {},
   "outputs": [
    {
     "data": {
      "text/plain": [
       "array([[ 4,  3,  2,  1],\n",
       "       [ 8,  7,  6,  5],\n",
       "       [12, 11, 10,  9]])"
      ]
     },
     "execution_count": 50,
     "metadata": {},
     "output_type": "execute_result"
    }
   ],
   "source": [
    "#fliplr\n",
    "np.fliplr(arr)"
   ]
  },
  {
   "cell_type": "code",
   "execution_count": 52,
   "metadata": {},
   "outputs": [
    {
     "data": {
      "text/plain": [
       "array([[1, 1, 1, 1],\n",
       "       [1, 1, 1, 1],\n",
       "       [1, 1, 1, 1]])"
      ]
     },
     "execution_count": 52,
     "metadata": {},
     "output_type": "execute_result"
    }
   ],
   "source": [
    "#fill\n",
    "copy_arr = np.array(arr, copy=True)\n",
    "copy_arr.fill(1)\n",
    "copy_arr"
   ]
  },
  {
   "cell_type": "code",
   "execution_count": 56,
   "metadata": {},
   "outputs": [
    {
     "data": {
      "text/plain": [
       "array([[ 4,  8, 12],\n",
       "       [ 3,  7, 11],\n",
       "       [ 2,  6, 10],\n",
       "       [ 1,  5,  9]])"
      ]
     },
     "execution_count": 56,
     "metadata": {},
     "output_type": "execute_result"
    }
   ],
   "source": [
    "#rot90\n",
    "np.rot90(arr)"
   ]
  },
  {
   "cell_type": "code",
   "execution_count": 57,
   "metadata": {},
   "outputs": [],
   "source": [
    "import pandas as pd\n",
    "from sklearn.model_selection import train_test_split"
   ]
  },
  {
   "cell_type": "code",
   "execution_count": 60,
   "metadata": {},
   "outputs": [
    {
     "data": {
      "text/html": [
       "<div>\n",
       "<style scoped>\n",
       "    .dataframe tbody tr th:only-of-type {\n",
       "        vertical-align: middle;\n",
       "    }\n",
       "\n",
       "    .dataframe tbody tr th {\n",
       "        vertical-align: top;\n",
       "    }\n",
       "\n",
       "    .dataframe thead th {\n",
       "        text-align: right;\n",
       "    }\n",
       "</style>\n",
       "<table border=\"1\" class=\"dataframe\">\n",
       "  <thead>\n",
       "    <tr style=\"text-align: right;\">\n",
       "      <th></th>\n",
       "      <th>Name</th>\n",
       "      <th>Age</th>\n",
       "    </tr>\n",
       "  </thead>\n",
       "  <tbody>\n",
       "    <tr>\n",
       "      <th>0</th>\n",
       "      <td>Ayaan</td>\n",
       "      <td>21</td>\n",
       "    </tr>\n",
       "    <tr>\n",
       "      <th>1</th>\n",
       "      <td>Gaurav</td>\n",
       "      <td>21</td>\n",
       "    </tr>\n",
       "    <tr>\n",
       "      <th>2</th>\n",
       "      <td>Suraj</td>\n",
       "      <td>9</td>\n",
       "    </tr>\n",
       "    <tr>\n",
       "      <th>3</th>\n",
       "      <td>Akshat</td>\n",
       "      <td>21</td>\n",
       "    </tr>\n",
       "    <tr>\n",
       "      <th>4</th>\n",
       "      <td>Kalash</td>\n",
       "      <td>21</td>\n",
       "    </tr>\n",
       "  </tbody>\n",
       "</table>\n",
       "</div>"
      ],
      "text/plain": [
       "     Name  Age\n",
       "0   Ayaan   21\n",
       "1  Gaurav   21\n",
       "2   Suraj    9\n",
       "3  Akshat   21\n",
       "4  Kalash   21"
      ]
     },
     "execution_count": 60,
     "metadata": {},
     "output_type": "execute_result"
    }
   ],
   "source": [
    "data = {'Name':['Ayaan', 'Gaurav', 'Suraj', 'Akshat', 'Kalash'],\n",
    " 'Age':[21, 21, 9, 21, 21]}\n",
    "df = pd.DataFrame(data)\n",
    "df"
   ]
  },
  {
   "cell_type": "code",
   "execution_count": 73,
   "metadata": {},
   "outputs": [
    {
     "data": {
      "text/plain": [
       "array([[4, 5],\n",
       "       [0, 1],\n",
       "       [6, 7]])"
      ]
     },
     "execution_count": 73,
     "metadata": {},
     "output_type": "execute_result"
    }
   ],
   "source": [
    "X = np.arange(10).reshape((5, 2))\n",
    "Y = range(5)\n",
    "X_train, X_test, Y_train, Y_test = train_test_split(X, Y, test_size=0.33, random_state=42)\n",
    "X_train"
   ]
  },
  {
   "cell_type": "code",
   "execution_count": 75,
   "metadata": {},
   "outputs": [
    {
     "data": {
      "text/plain": [
       "[2, 0, 3]"
      ]
     },
     "execution_count": 75,
     "metadata": {},
     "output_type": "execute_result"
    }
   ],
   "source": [
    "Y_train"
   ]
  },
  {
   "cell_type": "code",
   "execution_count": 76,
   "metadata": {},
   "outputs": [
    {
     "data": {
      "text/plain": [
       "array([[2, 3],\n",
       "       [8, 9]])"
      ]
     },
     "execution_count": 76,
     "metadata": {},
     "output_type": "execute_result"
    }
   ],
   "source": [
    "X_test"
   ]
  },
  {
   "cell_type": "code",
   "execution_count": 77,
   "metadata": {},
   "outputs": [
    {
     "data": {
      "text/plain": [
       "[1, 4]"
      ]
     },
     "execution_count": 77,
     "metadata": {},
     "output_type": "execute_result"
    }
   ],
   "source": [
    "Y_test"
   ]
  },
  {
   "cell_type": "code",
   "execution_count": 78,
   "metadata": {},
   "outputs": [
    {
     "data": {
      "text/plain": [
       "[[0, 1, 2], [3, 4]]"
      ]
     },
     "execution_count": 78,
     "metadata": {},
     "output_type": "execute_result"
    }
   ],
   "source": [
    "train_test_split(Y, shuffle=False)"
   ]
  },
  {
   "cell_type": "markdown",
   "metadata": {
    "id": "Cuh2nT20suxj",
    "tags": []
   },
   "source": [
    "## Practical 2\n",
    "Data Pre-processing Techniques using Pandas"
   ]
  },
  {
   "cell_type": "code",
   "execution_count": 79,
   "metadata": {},
   "outputs": [],
   "source": [
    "import csv"
   ]
  },
  {
   "cell_type": "code",
   "execution_count": 82,
   "metadata": {},
   "outputs": [
    {
     "name": "stdout",
     "output_type": "stream",
     "text": [
      "['Duration', ' Pulse', ' Maxpulse', ' Calories']\n",
      "['60', ' 110', ' 130', ' 409.1']\n",
      "['60', ' 117', ' 145', ' 479.0']\n",
      "['60', ' 103', ' 135', ' 340.0']\n",
      "['45', ' 109', ' 175', ' 282.4']\n",
      "['45', ' 117', ' 148', ' 406.0']\n",
      "['60', ' 102', ' 127', ' 300.0']\n",
      "['60', ' 110', ' 136', ' 374.0']\n",
      "['45', ' 104', ' 134', ' 253.3']\n",
      "['30', ' 109', ' 133', ' 195.1']\n",
      "['60', ' 98', ' 124', ' 269.0']\n",
      "['60', ' 103', ' 147', ' 329.3']\n",
      "['60', ' 100', ' 120', ' 250.7']\n",
      "['60', ' 106', ' 128', ' 345.3']\n",
      "['60', ' 104', ' 132', ' 379.3']\n",
      "['60', ' 98', ' 123', ' 275.0']\n",
      "['60', ' 98', ' 120', ' 215.2']\n",
      "['60', ' 100', ' 120', ' 300.0']\n",
      "['45', ' 90', ' 112', ' ']\n",
      "['60', ' 103', ' 123', ' 323.0']\n",
      "['45', ' 97', ' 125', ' 243.0']\n",
      "['60', ' 108', ' 131', ' 364.2']\n",
      "['45', ' 100', ' 119', ' 282.0']\n",
      "['60', ' 130', ' 101', ' 300.0']\n",
      "['45', ' 105', ' 132', ' 246.0']\n",
      "['60', ' 102', ' 126', ' 334.5']\n",
      "['60', ' 100', ' 120', ' 250.0']\n",
      "['60', ' 92', ' 118', ' 241.0']\n",
      "['60', ' 103', ' 132', ' ']\n",
      "['60', ' 100', ' 132', ' 280.0']\n",
      "['60', ' 102', ' 129', ' 380.3']\n",
      "['60', ' 92', ' 115', ' 243.0']\n",
      "['45', ' 90', ' 112', ' 180.1']\n",
      "['60', ' 101', ' 124', ' 299.0']\n",
      "['60', ' 93', ' 113', ' 223.0']\n",
      "['60', ' 107', ' 136', ' 361.0']\n",
      "['60', ' 114', ' 140', ' 415.0']\n",
      "['60', ' 102', ' 127', ' 300.0']\n",
      "['60', ' 100', ' 120', ' 300.0']\n",
      "['60', ' 100', ' 120', ' 300.0']\n",
      "['45', ' 104', ' 129', ' 266.0']\n",
      "['45', ' 90', ' 112', ' 180.1']\n",
      "['60', ' 98', ' 126', ' 286.0']\n",
      "['60', ' 100', ' 122', ' 329.4']\n",
      "['60', ' 111', ' 138', ' 400.0']\n",
      "['60', ' 111', ' 131', ' 397.0']\n",
      "['60', ' 99', ' 119', ' 273.0']\n",
      "['60', ' 109', ' 153', ' 387.6']\n",
      "['45', ' 111', ' 136', ' 300.0']\n",
      "['45', ' 108', ' 129', ' 298.0']\n",
      "['60', ' 111', ' 139', ' 397.6']\n",
      "['60', ' 107', ' 136', ' 380.2']\n",
      "['80', ' 123', ' 146', ' 643.1']\n",
      "['60', ' 106', ' 130', ' 263.0']\n",
      "['60', ' 118', ' 151', ' 486.0']\n",
      "['30', ' 136', ' 175', ' 238.0']\n",
      "['60', ' 121', ' 146', ' 450.7']\n",
      "['60', ' 118', ' 121', ' 413.0']\n",
      "['45', ' 115', ' 144', ' 305.0']\n",
      "['20', ' 153', ' 172', ' 226.4']\n",
      "['45', ' 123', ' 152', ' 321.0']\n",
      "['210', ' 108', ' 160', ' 1376.0']\n",
      "['160', ' 110', ' 137', ' 1034.4']\n",
      "['160', ' 109', ' 135', ' 853.0']\n",
      "['45', ' 118', ' 141', ' 341.0']\n",
      "['20', ' 110', ' 130', ' 131.4']\n",
      "['180', ' 90', ' 130', ' 800.4']\n",
      "['150', ' 105', ' 135', ' 873.4']\n",
      "['150', ' 107', ' 130', ' 816.0']\n",
      "['20', ' 106', ' 136', ' 110.4']\n",
      "['300', ' 108', ' 143', ' 1500.2']\n",
      "['150', ' 97', ' 129', ' 1115.0']\n",
      "['60', ' 109', ' 153', ' 387.6']\n",
      "['90', ' 100', ' 127', ' 700.0']\n",
      "['150', ' 97', ' 127', ' 953.2']\n",
      "['45', ' 114', ' 146', ' 304.0']\n",
      "['90', ' 98', ' 125', ' 563.2']\n",
      "['45', ' 105', ' 134', ' 251.0']\n",
      "['45', ' 110', ' 141', ' 300.0']\n",
      "['120', ' 100', ' 130', ' 500.4']\n",
      "['270', ' 100', ' 131', ' 1729.0']\n",
      "['30', ' 159', ' 182', ' 319.2']\n",
      "['45', ' 149', ' 169', ' 344.0']\n",
      "['30', ' 103', ' 139', ' 151.1']\n",
      "['120', ' 100', ' 130', ' 500.0']\n",
      "['45', ' 100', ' 120', ' 225.3']\n",
      "['30', ' 151', ' 170', ' 300.0']\n",
      "['45', ' 102', ' 136', ' 234.0']\n",
      "['120', ' 100', ' 157', ' 1000.1']\n",
      "['45', ' 129', ' 103', ' 242.0']\n",
      "['20', ' 83', ' 107', ' 50.3']\n",
      "['180', ' 101', ' 127', ' 600.1']\n",
      "['45', ' 107', ' 137', ' ']\n",
      "['30', ' 90', ' 107', ' 105.3']\n",
      "['15', ' 80', ' 100', ' 50.5']\n",
      "['20', ' 150', ' 171', ' 127.4']\n",
      "['20', ' 151', ' 168', ' 229.4']\n",
      "['30', ' 95', ' 128', ' 128.2']\n",
      "['25', ' 152', ' 168', ' 244.2']\n",
      "['30', ' 109', ' 131', ' 188.2']\n",
      "['90', ' 93', ' 124', ' 604.1']\n",
      "['20', ' 95', ' 112', ' 77.7']\n",
      "['90', ' 90', ' 110', ' 500.0']\n",
      "['90', ' 90', ' 100', ' 500.0']\n",
      "['90', ' 90', ' 100', ' 500.4']\n",
      "['30', ' 92', ' 108', ' 92.7']\n",
      "['30', ' 93', ' 128', ' 124.0']\n",
      "['180', ' 90', ' 120', ' 800.3']\n",
      "['30', ' 90', ' 120', ' 86.2']\n",
      "['90', ' 90', ' 120', ' 500.3']\n",
      "['210', ' 137', ' 184', ' 1860.4']\n",
      "['60', ' 102', ' 124', ' 325.2']\n",
      "['45', ' 107', ' 124', ' 275.0']\n",
      "['15', ' 124', ' 139', ' 124.2']\n",
      "['45', ' 100', ' 120', ' 225.3']\n",
      "['60', ' 108', ' 131', ' 367.6']\n",
      "['60', ' 108', ' 151', ' 351.7']\n",
      "['60', ' 116', ' 141', ' 443.0']\n",
      "['60', ' 97', ' 122', ' 277.4']\n",
      "['60', ' 105', ' 125', ' ']\n",
      "['60', ' 103', ' 124', ' 332.7']\n",
      "['30', ' 112', ' 137', ' 193.9']\n",
      "['45', ' 100', ' 120', ' 100.7']\n",
      "['60', ' 119', ' 169', ' 336.7']\n",
      "['60', ' 107', ' 127', ' 344.9']\n",
      "['60', ' 111', ' 151', ' 368.5']\n",
      "['60', ' 98', ' 122', ' 271.0']\n",
      "['60', ' 97', ' 124', ' 275.3']\n",
      "['60', ' 109', ' 127', ' 382.0']\n",
      "['90', ' 99', ' 125', ' 466.4']\n",
      "['60', ' 114', ' 151', ' 384.0']\n",
      "['60', ' 104', ' 134', ' 342.5']\n",
      "['60', ' 107', ' 138', ' 357.5']\n",
      "['60', ' 103', ' 133', ' 335.0']\n",
      "['60', ' 106', ' 132', ' 327.5']\n",
      "['60', ' 103', ' 136', ' 339.0']\n",
      "['20', ' 136', ' 156', ' 189.0']\n",
      "['45', ' 117', ' 143', ' 317.7']\n",
      "['45', ' 115', ' 137', ' 318.0']\n",
      "['45', ' 113', ' 138', ' 308.0']\n",
      "['20', ' 141', ' 162', ' 222.4']\n",
      "['60', ' 108', ' 135', ' 390.0']\n",
      "['60', ' 97', ' 127', ' ']\n",
      "['45', ' 100', ' 120', ' 250.4']\n",
      "['45', ' 122', ' 149', ' 335.4']\n",
      "['60', ' 136', ' 170', ' 470.2']\n",
      "['45', ' 106', ' 126', ' 270.8']\n",
      "['60', ' 107', ' 136', ' 400.0']\n",
      "['60', ' 112', ' 146', ' 361.9']\n",
      "['30', ' 103', ' 127', ' 185.0']\n",
      "['60', ' 110', ' 150', ' 409.4']\n",
      "['60', ' 106', ' 134', ' 343.0']\n",
      "['60', ' 109', ' 129', ' 353.2']\n",
      "['60', ' 109', ' 138', ' 374.0']\n",
      "['30', ' 150', ' 167', ' 275.8']\n",
      "['60', ' 105', ' 128', ' 328.0']\n",
      "['60', ' 111', ' 151', ' 368.5']\n",
      "['60', ' 97', ' 131', ' 270.4']\n",
      "['60', ' 100', ' 120', ' 270.4']\n",
      "['60', ' 114', ' 150', ' 382.8']\n",
      "['30', ' 80', ' 120', ' 240.9']\n",
      "['30', ' 85', ' 120', ' 250.4']\n",
      "['45', ' 90', ' 130', ' 260.4']\n",
      "['45', ' 95', ' 130', ' 270.0']\n",
      "['45', ' 100', ' 140', ' 280.9']\n",
      "['60', ' 105', ' 140', ' 290.8']\n",
      "['60', ' 110', ' 145', ' 300.0']\n",
      "['60', ' 115', ' 145', ' 310.2']\n",
      "['75', ' 120', ' 150', ' 320.4']\n",
      "['75', ' 125', ' 150', ' 330.4']\n"
     ]
    }
   ],
   "source": [
    "with open('data.csv','rt')as f:\n",
    "    data = csv.reader(f)\n",
    "    for row in data:\n",
    "        print(row)"
   ]
  },
  {
   "cell_type": "code",
   "execution_count": 83,
   "metadata": {},
   "outputs": [
    {
     "name": "stdout",
     "output_type": "stream",
     "text": [
      "{'Duration': '60', ' Pulse': ' 110', ' Maxpulse': ' 130', ' Calories': ' 409.1'}\n",
      "{'Duration': '60', ' Pulse': ' 117', ' Maxpulse': ' 145', ' Calories': ' 479.0'}\n",
      "{'Duration': '60', ' Pulse': ' 103', ' Maxpulse': ' 135', ' Calories': ' 340.0'}\n",
      "{'Duration': '45', ' Pulse': ' 109', ' Maxpulse': ' 175', ' Calories': ' 282.4'}\n",
      "{'Duration': '45', ' Pulse': ' 117', ' Maxpulse': ' 148', ' Calories': ' 406.0'}\n",
      "{'Duration': '60', ' Pulse': ' 102', ' Maxpulse': ' 127', ' Calories': ' 300.0'}\n",
      "{'Duration': '60', ' Pulse': ' 110', ' Maxpulse': ' 136', ' Calories': ' 374.0'}\n",
      "{'Duration': '45', ' Pulse': ' 104', ' Maxpulse': ' 134', ' Calories': ' 253.3'}\n",
      "{'Duration': '30', ' Pulse': ' 109', ' Maxpulse': ' 133', ' Calories': ' 195.1'}\n",
      "{'Duration': '60', ' Pulse': ' 98', ' Maxpulse': ' 124', ' Calories': ' 269.0'}\n",
      "{'Duration': '60', ' Pulse': ' 103', ' Maxpulse': ' 147', ' Calories': ' 329.3'}\n",
      "{'Duration': '60', ' Pulse': ' 100', ' Maxpulse': ' 120', ' Calories': ' 250.7'}\n",
      "{'Duration': '60', ' Pulse': ' 106', ' Maxpulse': ' 128', ' Calories': ' 345.3'}\n",
      "{'Duration': '60', ' Pulse': ' 104', ' Maxpulse': ' 132', ' Calories': ' 379.3'}\n",
      "{'Duration': '60', ' Pulse': ' 98', ' Maxpulse': ' 123', ' Calories': ' 275.0'}\n",
      "{'Duration': '60', ' Pulse': ' 98', ' Maxpulse': ' 120', ' Calories': ' 215.2'}\n",
      "{'Duration': '60', ' Pulse': ' 100', ' Maxpulse': ' 120', ' Calories': ' 300.0'}\n",
      "{'Duration': '45', ' Pulse': ' 90', ' Maxpulse': ' 112', ' Calories': ' '}\n",
      "{'Duration': '60', ' Pulse': ' 103', ' Maxpulse': ' 123', ' Calories': ' 323.0'}\n",
      "{'Duration': '45', ' Pulse': ' 97', ' Maxpulse': ' 125', ' Calories': ' 243.0'}\n",
      "{'Duration': '60', ' Pulse': ' 108', ' Maxpulse': ' 131', ' Calories': ' 364.2'}\n",
      "{'Duration': '45', ' Pulse': ' 100', ' Maxpulse': ' 119', ' Calories': ' 282.0'}\n",
      "{'Duration': '60', ' Pulse': ' 130', ' Maxpulse': ' 101', ' Calories': ' 300.0'}\n",
      "{'Duration': '45', ' Pulse': ' 105', ' Maxpulse': ' 132', ' Calories': ' 246.0'}\n",
      "{'Duration': '60', ' Pulse': ' 102', ' Maxpulse': ' 126', ' Calories': ' 334.5'}\n",
      "{'Duration': '60', ' Pulse': ' 100', ' Maxpulse': ' 120', ' Calories': ' 250.0'}\n",
      "{'Duration': '60', ' Pulse': ' 92', ' Maxpulse': ' 118', ' Calories': ' 241.0'}\n",
      "{'Duration': '60', ' Pulse': ' 103', ' Maxpulse': ' 132', ' Calories': ' '}\n",
      "{'Duration': '60', ' Pulse': ' 100', ' Maxpulse': ' 132', ' Calories': ' 280.0'}\n",
      "{'Duration': '60', ' Pulse': ' 102', ' Maxpulse': ' 129', ' Calories': ' 380.3'}\n",
      "{'Duration': '60', ' Pulse': ' 92', ' Maxpulse': ' 115', ' Calories': ' 243.0'}\n",
      "{'Duration': '45', ' Pulse': ' 90', ' Maxpulse': ' 112', ' Calories': ' 180.1'}\n",
      "{'Duration': '60', ' Pulse': ' 101', ' Maxpulse': ' 124', ' Calories': ' 299.0'}\n",
      "{'Duration': '60', ' Pulse': ' 93', ' Maxpulse': ' 113', ' Calories': ' 223.0'}\n",
      "{'Duration': '60', ' Pulse': ' 107', ' Maxpulse': ' 136', ' Calories': ' 361.0'}\n",
      "{'Duration': '60', ' Pulse': ' 114', ' Maxpulse': ' 140', ' Calories': ' 415.0'}\n",
      "{'Duration': '60', ' Pulse': ' 102', ' Maxpulse': ' 127', ' Calories': ' 300.0'}\n",
      "{'Duration': '60', ' Pulse': ' 100', ' Maxpulse': ' 120', ' Calories': ' 300.0'}\n",
      "{'Duration': '60', ' Pulse': ' 100', ' Maxpulse': ' 120', ' Calories': ' 300.0'}\n",
      "{'Duration': '45', ' Pulse': ' 104', ' Maxpulse': ' 129', ' Calories': ' 266.0'}\n",
      "{'Duration': '45', ' Pulse': ' 90', ' Maxpulse': ' 112', ' Calories': ' 180.1'}\n",
      "{'Duration': '60', ' Pulse': ' 98', ' Maxpulse': ' 126', ' Calories': ' 286.0'}\n",
      "{'Duration': '60', ' Pulse': ' 100', ' Maxpulse': ' 122', ' Calories': ' 329.4'}\n",
      "{'Duration': '60', ' Pulse': ' 111', ' Maxpulse': ' 138', ' Calories': ' 400.0'}\n",
      "{'Duration': '60', ' Pulse': ' 111', ' Maxpulse': ' 131', ' Calories': ' 397.0'}\n",
      "{'Duration': '60', ' Pulse': ' 99', ' Maxpulse': ' 119', ' Calories': ' 273.0'}\n",
      "{'Duration': '60', ' Pulse': ' 109', ' Maxpulse': ' 153', ' Calories': ' 387.6'}\n",
      "{'Duration': '45', ' Pulse': ' 111', ' Maxpulse': ' 136', ' Calories': ' 300.0'}\n",
      "{'Duration': '45', ' Pulse': ' 108', ' Maxpulse': ' 129', ' Calories': ' 298.0'}\n",
      "{'Duration': '60', ' Pulse': ' 111', ' Maxpulse': ' 139', ' Calories': ' 397.6'}\n",
      "{'Duration': '60', ' Pulse': ' 107', ' Maxpulse': ' 136', ' Calories': ' 380.2'}\n",
      "{'Duration': '80', ' Pulse': ' 123', ' Maxpulse': ' 146', ' Calories': ' 643.1'}\n",
      "{'Duration': '60', ' Pulse': ' 106', ' Maxpulse': ' 130', ' Calories': ' 263.0'}\n",
      "{'Duration': '60', ' Pulse': ' 118', ' Maxpulse': ' 151', ' Calories': ' 486.0'}\n",
      "{'Duration': '30', ' Pulse': ' 136', ' Maxpulse': ' 175', ' Calories': ' 238.0'}\n",
      "{'Duration': '60', ' Pulse': ' 121', ' Maxpulse': ' 146', ' Calories': ' 450.7'}\n",
      "{'Duration': '60', ' Pulse': ' 118', ' Maxpulse': ' 121', ' Calories': ' 413.0'}\n",
      "{'Duration': '45', ' Pulse': ' 115', ' Maxpulse': ' 144', ' Calories': ' 305.0'}\n",
      "{'Duration': '20', ' Pulse': ' 153', ' Maxpulse': ' 172', ' Calories': ' 226.4'}\n",
      "{'Duration': '45', ' Pulse': ' 123', ' Maxpulse': ' 152', ' Calories': ' 321.0'}\n",
      "{'Duration': '210', ' Pulse': ' 108', ' Maxpulse': ' 160', ' Calories': ' 1376.0'}\n",
      "{'Duration': '160', ' Pulse': ' 110', ' Maxpulse': ' 137', ' Calories': ' 1034.4'}\n",
      "{'Duration': '160', ' Pulse': ' 109', ' Maxpulse': ' 135', ' Calories': ' 853.0'}\n",
      "{'Duration': '45', ' Pulse': ' 118', ' Maxpulse': ' 141', ' Calories': ' 341.0'}\n",
      "{'Duration': '20', ' Pulse': ' 110', ' Maxpulse': ' 130', ' Calories': ' 131.4'}\n",
      "{'Duration': '180', ' Pulse': ' 90', ' Maxpulse': ' 130', ' Calories': ' 800.4'}\n",
      "{'Duration': '150', ' Pulse': ' 105', ' Maxpulse': ' 135', ' Calories': ' 873.4'}\n",
      "{'Duration': '150', ' Pulse': ' 107', ' Maxpulse': ' 130', ' Calories': ' 816.0'}\n",
      "{'Duration': '20', ' Pulse': ' 106', ' Maxpulse': ' 136', ' Calories': ' 110.4'}\n",
      "{'Duration': '300', ' Pulse': ' 108', ' Maxpulse': ' 143', ' Calories': ' 1500.2'}\n",
      "{'Duration': '150', ' Pulse': ' 97', ' Maxpulse': ' 129', ' Calories': ' 1115.0'}\n",
      "{'Duration': '60', ' Pulse': ' 109', ' Maxpulse': ' 153', ' Calories': ' 387.6'}\n",
      "{'Duration': '90', ' Pulse': ' 100', ' Maxpulse': ' 127', ' Calories': ' 700.0'}\n",
      "{'Duration': '150', ' Pulse': ' 97', ' Maxpulse': ' 127', ' Calories': ' 953.2'}\n",
      "{'Duration': '45', ' Pulse': ' 114', ' Maxpulse': ' 146', ' Calories': ' 304.0'}\n",
      "{'Duration': '90', ' Pulse': ' 98', ' Maxpulse': ' 125', ' Calories': ' 563.2'}\n",
      "{'Duration': '45', ' Pulse': ' 105', ' Maxpulse': ' 134', ' Calories': ' 251.0'}\n",
      "{'Duration': '45', ' Pulse': ' 110', ' Maxpulse': ' 141', ' Calories': ' 300.0'}\n",
      "{'Duration': '120', ' Pulse': ' 100', ' Maxpulse': ' 130', ' Calories': ' 500.4'}\n",
      "{'Duration': '270', ' Pulse': ' 100', ' Maxpulse': ' 131', ' Calories': ' 1729.0'}\n",
      "{'Duration': '30', ' Pulse': ' 159', ' Maxpulse': ' 182', ' Calories': ' 319.2'}\n",
      "{'Duration': '45', ' Pulse': ' 149', ' Maxpulse': ' 169', ' Calories': ' 344.0'}\n",
      "{'Duration': '30', ' Pulse': ' 103', ' Maxpulse': ' 139', ' Calories': ' 151.1'}\n",
      "{'Duration': '120', ' Pulse': ' 100', ' Maxpulse': ' 130', ' Calories': ' 500.0'}\n",
      "{'Duration': '45', ' Pulse': ' 100', ' Maxpulse': ' 120', ' Calories': ' 225.3'}\n",
      "{'Duration': '30', ' Pulse': ' 151', ' Maxpulse': ' 170', ' Calories': ' 300.0'}\n",
      "{'Duration': '45', ' Pulse': ' 102', ' Maxpulse': ' 136', ' Calories': ' 234.0'}\n",
      "{'Duration': '120', ' Pulse': ' 100', ' Maxpulse': ' 157', ' Calories': ' 1000.1'}\n",
      "{'Duration': '45', ' Pulse': ' 129', ' Maxpulse': ' 103', ' Calories': ' 242.0'}\n",
      "{'Duration': '20', ' Pulse': ' 83', ' Maxpulse': ' 107', ' Calories': ' 50.3'}\n",
      "{'Duration': '180', ' Pulse': ' 101', ' Maxpulse': ' 127', ' Calories': ' 600.1'}\n",
      "{'Duration': '45', ' Pulse': ' 107', ' Maxpulse': ' 137', ' Calories': ' '}\n",
      "{'Duration': '30', ' Pulse': ' 90', ' Maxpulse': ' 107', ' Calories': ' 105.3'}\n",
      "{'Duration': '15', ' Pulse': ' 80', ' Maxpulse': ' 100', ' Calories': ' 50.5'}\n",
      "{'Duration': '20', ' Pulse': ' 150', ' Maxpulse': ' 171', ' Calories': ' 127.4'}\n",
      "{'Duration': '20', ' Pulse': ' 151', ' Maxpulse': ' 168', ' Calories': ' 229.4'}\n",
      "{'Duration': '30', ' Pulse': ' 95', ' Maxpulse': ' 128', ' Calories': ' 128.2'}\n",
      "{'Duration': '25', ' Pulse': ' 152', ' Maxpulse': ' 168', ' Calories': ' 244.2'}\n",
      "{'Duration': '30', ' Pulse': ' 109', ' Maxpulse': ' 131', ' Calories': ' 188.2'}\n",
      "{'Duration': '90', ' Pulse': ' 93', ' Maxpulse': ' 124', ' Calories': ' 604.1'}\n",
      "{'Duration': '20', ' Pulse': ' 95', ' Maxpulse': ' 112', ' Calories': ' 77.7'}\n",
      "{'Duration': '90', ' Pulse': ' 90', ' Maxpulse': ' 110', ' Calories': ' 500.0'}\n",
      "{'Duration': '90', ' Pulse': ' 90', ' Maxpulse': ' 100', ' Calories': ' 500.0'}\n",
      "{'Duration': '90', ' Pulse': ' 90', ' Maxpulse': ' 100', ' Calories': ' 500.4'}\n",
      "{'Duration': '30', ' Pulse': ' 92', ' Maxpulse': ' 108', ' Calories': ' 92.7'}\n",
      "{'Duration': '30', ' Pulse': ' 93', ' Maxpulse': ' 128', ' Calories': ' 124.0'}\n",
      "{'Duration': '180', ' Pulse': ' 90', ' Maxpulse': ' 120', ' Calories': ' 800.3'}\n",
      "{'Duration': '30', ' Pulse': ' 90', ' Maxpulse': ' 120', ' Calories': ' 86.2'}\n",
      "{'Duration': '90', ' Pulse': ' 90', ' Maxpulse': ' 120', ' Calories': ' 500.3'}\n",
      "{'Duration': '210', ' Pulse': ' 137', ' Maxpulse': ' 184', ' Calories': ' 1860.4'}\n",
      "{'Duration': '60', ' Pulse': ' 102', ' Maxpulse': ' 124', ' Calories': ' 325.2'}\n",
      "{'Duration': '45', ' Pulse': ' 107', ' Maxpulse': ' 124', ' Calories': ' 275.0'}\n",
      "{'Duration': '15', ' Pulse': ' 124', ' Maxpulse': ' 139', ' Calories': ' 124.2'}\n",
      "{'Duration': '45', ' Pulse': ' 100', ' Maxpulse': ' 120', ' Calories': ' 225.3'}\n",
      "{'Duration': '60', ' Pulse': ' 108', ' Maxpulse': ' 131', ' Calories': ' 367.6'}\n",
      "{'Duration': '60', ' Pulse': ' 108', ' Maxpulse': ' 151', ' Calories': ' 351.7'}\n",
      "{'Duration': '60', ' Pulse': ' 116', ' Maxpulse': ' 141', ' Calories': ' 443.0'}\n",
      "{'Duration': '60', ' Pulse': ' 97', ' Maxpulse': ' 122', ' Calories': ' 277.4'}\n",
      "{'Duration': '60', ' Pulse': ' 105', ' Maxpulse': ' 125', ' Calories': ' '}\n",
      "{'Duration': '60', ' Pulse': ' 103', ' Maxpulse': ' 124', ' Calories': ' 332.7'}\n",
      "{'Duration': '30', ' Pulse': ' 112', ' Maxpulse': ' 137', ' Calories': ' 193.9'}\n",
      "{'Duration': '45', ' Pulse': ' 100', ' Maxpulse': ' 120', ' Calories': ' 100.7'}\n",
      "{'Duration': '60', ' Pulse': ' 119', ' Maxpulse': ' 169', ' Calories': ' 336.7'}\n",
      "{'Duration': '60', ' Pulse': ' 107', ' Maxpulse': ' 127', ' Calories': ' 344.9'}\n",
      "{'Duration': '60', ' Pulse': ' 111', ' Maxpulse': ' 151', ' Calories': ' 368.5'}\n",
      "{'Duration': '60', ' Pulse': ' 98', ' Maxpulse': ' 122', ' Calories': ' 271.0'}\n",
      "{'Duration': '60', ' Pulse': ' 97', ' Maxpulse': ' 124', ' Calories': ' 275.3'}\n",
      "{'Duration': '60', ' Pulse': ' 109', ' Maxpulse': ' 127', ' Calories': ' 382.0'}\n",
      "{'Duration': '90', ' Pulse': ' 99', ' Maxpulse': ' 125', ' Calories': ' 466.4'}\n",
      "{'Duration': '60', ' Pulse': ' 114', ' Maxpulse': ' 151', ' Calories': ' 384.0'}\n",
      "{'Duration': '60', ' Pulse': ' 104', ' Maxpulse': ' 134', ' Calories': ' 342.5'}\n",
      "{'Duration': '60', ' Pulse': ' 107', ' Maxpulse': ' 138', ' Calories': ' 357.5'}\n",
      "{'Duration': '60', ' Pulse': ' 103', ' Maxpulse': ' 133', ' Calories': ' 335.0'}\n",
      "{'Duration': '60', ' Pulse': ' 106', ' Maxpulse': ' 132', ' Calories': ' 327.5'}\n",
      "{'Duration': '60', ' Pulse': ' 103', ' Maxpulse': ' 136', ' Calories': ' 339.0'}\n",
      "{'Duration': '20', ' Pulse': ' 136', ' Maxpulse': ' 156', ' Calories': ' 189.0'}\n",
      "{'Duration': '45', ' Pulse': ' 117', ' Maxpulse': ' 143', ' Calories': ' 317.7'}\n",
      "{'Duration': '45', ' Pulse': ' 115', ' Maxpulse': ' 137', ' Calories': ' 318.0'}\n",
      "{'Duration': '45', ' Pulse': ' 113', ' Maxpulse': ' 138', ' Calories': ' 308.0'}\n",
      "{'Duration': '20', ' Pulse': ' 141', ' Maxpulse': ' 162', ' Calories': ' 222.4'}\n",
      "{'Duration': '60', ' Pulse': ' 108', ' Maxpulse': ' 135', ' Calories': ' 390.0'}\n",
      "{'Duration': '60', ' Pulse': ' 97', ' Maxpulse': ' 127', ' Calories': ' '}\n",
      "{'Duration': '45', ' Pulse': ' 100', ' Maxpulse': ' 120', ' Calories': ' 250.4'}\n",
      "{'Duration': '45', ' Pulse': ' 122', ' Maxpulse': ' 149', ' Calories': ' 335.4'}\n",
      "{'Duration': '60', ' Pulse': ' 136', ' Maxpulse': ' 170', ' Calories': ' 470.2'}\n",
      "{'Duration': '45', ' Pulse': ' 106', ' Maxpulse': ' 126', ' Calories': ' 270.8'}\n",
      "{'Duration': '60', ' Pulse': ' 107', ' Maxpulse': ' 136', ' Calories': ' 400.0'}\n",
      "{'Duration': '60', ' Pulse': ' 112', ' Maxpulse': ' 146', ' Calories': ' 361.9'}\n",
      "{'Duration': '30', ' Pulse': ' 103', ' Maxpulse': ' 127', ' Calories': ' 185.0'}\n",
      "{'Duration': '60', ' Pulse': ' 110', ' Maxpulse': ' 150', ' Calories': ' 409.4'}\n",
      "{'Duration': '60', ' Pulse': ' 106', ' Maxpulse': ' 134', ' Calories': ' 343.0'}\n",
      "{'Duration': '60', ' Pulse': ' 109', ' Maxpulse': ' 129', ' Calories': ' 353.2'}\n",
      "{'Duration': '60', ' Pulse': ' 109', ' Maxpulse': ' 138', ' Calories': ' 374.0'}\n",
      "{'Duration': '30', ' Pulse': ' 150', ' Maxpulse': ' 167', ' Calories': ' 275.8'}\n",
      "{'Duration': '60', ' Pulse': ' 105', ' Maxpulse': ' 128', ' Calories': ' 328.0'}\n",
      "{'Duration': '60', ' Pulse': ' 111', ' Maxpulse': ' 151', ' Calories': ' 368.5'}\n",
      "{'Duration': '60', ' Pulse': ' 97', ' Maxpulse': ' 131', ' Calories': ' 270.4'}\n",
      "{'Duration': '60', ' Pulse': ' 100', ' Maxpulse': ' 120', ' Calories': ' 270.4'}\n",
      "{'Duration': '60', ' Pulse': ' 114', ' Maxpulse': ' 150', ' Calories': ' 382.8'}\n",
      "{'Duration': '30', ' Pulse': ' 80', ' Maxpulse': ' 120', ' Calories': ' 240.9'}\n",
      "{'Duration': '30', ' Pulse': ' 85', ' Maxpulse': ' 120', ' Calories': ' 250.4'}\n",
      "{'Duration': '45', ' Pulse': ' 90', ' Maxpulse': ' 130', ' Calories': ' 260.4'}\n",
      "{'Duration': '45', ' Pulse': ' 95', ' Maxpulse': ' 130', ' Calories': ' 270.0'}\n",
      "{'Duration': '45', ' Pulse': ' 100', ' Maxpulse': ' 140', ' Calories': ' 280.9'}\n",
      "{'Duration': '60', ' Pulse': ' 105', ' Maxpulse': ' 140', ' Calories': ' 290.8'}\n",
      "{'Duration': '60', ' Pulse': ' 110', ' Maxpulse': ' 145', ' Calories': ' 300.0'}\n",
      "{'Duration': '60', ' Pulse': ' 115', ' Maxpulse': ' 145', ' Calories': ' 310.2'}\n",
      "{'Duration': '75', ' Pulse': ' 120', ' Maxpulse': ' 150', ' Calories': ' 320.4'}\n",
      "{'Duration': '75', ' Pulse': ' 125', ' Maxpulse': ' 150', ' Calories': ' 330.4'}\n"
     ]
    }
   ],
   "source": [
    "reader = csv.DictReader(open(\"data.csv\"))\n",
    "for raw in reader:\n",
    "    print(raw)"
   ]
  },
  {
   "cell_type": "code",
   "execution_count": 100,
   "metadata": {},
   "outputs": [],
   "source": [
    "df = pd.read_csv('data.csv')"
   ]
  },
  {
   "cell_type": "code",
   "execution_count": 101,
   "metadata": {},
   "outputs": [
    {
     "data": {
      "text/html": [
       "<div>\n",
       "<style scoped>\n",
       "    .dataframe tbody tr th:only-of-type {\n",
       "        vertical-align: middle;\n",
       "    }\n",
       "\n",
       "    .dataframe tbody tr th {\n",
       "        vertical-align: top;\n",
       "    }\n",
       "\n",
       "    .dataframe thead th {\n",
       "        text-align: right;\n",
       "    }\n",
       "</style>\n",
       "<table border=\"1\" class=\"dataframe\">\n",
       "  <thead>\n",
       "    <tr style=\"text-align: right;\">\n",
       "      <th></th>\n",
       "      <th>Duration</th>\n",
       "      <th>Pulse</th>\n",
       "      <th>Maxpulse</th>\n",
       "      <th>Calories</th>\n",
       "    </tr>\n",
       "  </thead>\n",
       "  <tbody>\n",
       "    <tr>\n",
       "      <th>0</th>\n",
       "      <td>60</td>\n",
       "      <td>110</td>\n",
       "      <td>130</td>\n",
       "      <td>409.1</td>\n",
       "    </tr>\n",
       "    <tr>\n",
       "      <th>1</th>\n",
       "      <td>60</td>\n",
       "      <td>117</td>\n",
       "      <td>145</td>\n",
       "      <td>479.0</td>\n",
       "    </tr>\n",
       "    <tr>\n",
       "      <th>2</th>\n",
       "      <td>60</td>\n",
       "      <td>103</td>\n",
       "      <td>135</td>\n",
       "      <td>340.0</td>\n",
       "    </tr>\n",
       "    <tr>\n",
       "      <th>3</th>\n",
       "      <td>45</td>\n",
       "      <td>109</td>\n",
       "      <td>175</td>\n",
       "      <td>282.4</td>\n",
       "    </tr>\n",
       "    <tr>\n",
       "      <th>4</th>\n",
       "      <td>45</td>\n",
       "      <td>117</td>\n",
       "      <td>148</td>\n",
       "      <td>406.0</td>\n",
       "    </tr>\n",
       "    <tr>\n",
       "      <th>...</th>\n",
       "      <td>...</td>\n",
       "      <td>...</td>\n",
       "      <td>...</td>\n",
       "      <td>...</td>\n",
       "    </tr>\n",
       "    <tr>\n",
       "      <th>164</th>\n",
       "      <td>60</td>\n",
       "      <td>105</td>\n",
       "      <td>140</td>\n",
       "      <td>290.8</td>\n",
       "    </tr>\n",
       "    <tr>\n",
       "      <th>165</th>\n",
       "      <td>60</td>\n",
       "      <td>110</td>\n",
       "      <td>145</td>\n",
       "      <td>300.0</td>\n",
       "    </tr>\n",
       "    <tr>\n",
       "      <th>166</th>\n",
       "      <td>60</td>\n",
       "      <td>115</td>\n",
       "      <td>145</td>\n",
       "      <td>310.2</td>\n",
       "    </tr>\n",
       "    <tr>\n",
       "      <th>167</th>\n",
       "      <td>75</td>\n",
       "      <td>120</td>\n",
       "      <td>150</td>\n",
       "      <td>320.4</td>\n",
       "    </tr>\n",
       "    <tr>\n",
       "      <th>168</th>\n",
       "      <td>75</td>\n",
       "      <td>125</td>\n",
       "      <td>150</td>\n",
       "      <td>330.4</td>\n",
       "    </tr>\n",
       "  </tbody>\n",
       "</table>\n",
       "<p>164 rows × 4 columns</p>\n",
       "</div>"
      ],
      "text/plain": [
       "     Duration  Pulse  Maxpulse  Calories\n",
       "0          60    110       130     409.1\n",
       "1          60    117       145     479.0\n",
       "2          60    103       135     340.0\n",
       "3          45    109       175     282.4\n",
       "4          45    117       148     406.0\n",
       "..        ...    ...       ...       ...\n",
       "164        60    105       140     290.8\n",
       "165        60    110       145     300.0\n",
       "166        60    115       145     310.2\n",
       "167        75    120       150     320.4\n",
       "168        75    125       150     330.4\n",
       "\n",
       "[164 rows x 4 columns]"
      ]
     },
     "execution_count": 101,
     "metadata": {},
     "output_type": "execute_result"
    }
   ],
   "source": [
    "new_df = df.dropna()\n",
    "new_df"
   ]
  },
  {
   "cell_type": "code",
   "execution_count": 102,
   "metadata": {},
   "outputs": [
    {
     "data": {
      "text/html": [
       "<div>\n",
       "<style scoped>\n",
       "    .dataframe tbody tr th:only-of-type {\n",
       "        vertical-align: middle;\n",
       "    }\n",
       "\n",
       "    .dataframe tbody tr th {\n",
       "        vertical-align: top;\n",
       "    }\n",
       "\n",
       "    .dataframe thead th {\n",
       "        text-align: right;\n",
       "    }\n",
       "</style>\n",
       "<table border=\"1\" class=\"dataframe\">\n",
       "  <thead>\n",
       "    <tr style=\"text-align: right;\">\n",
       "      <th></th>\n",
       "      <th>Duration</th>\n",
       "      <th>Pulse</th>\n",
       "      <th>Maxpulse</th>\n",
       "      <th>Calories</th>\n",
       "    </tr>\n",
       "  </thead>\n",
       "  <tbody>\n",
       "    <tr>\n",
       "      <th>0</th>\n",
       "      <td>60</td>\n",
       "      <td>110</td>\n",
       "      <td>130</td>\n",
       "      <td>409.1</td>\n",
       "    </tr>\n",
       "    <tr>\n",
       "      <th>1</th>\n",
       "      <td>60</td>\n",
       "      <td>117</td>\n",
       "      <td>145</td>\n",
       "      <td>479.0</td>\n",
       "    </tr>\n",
       "    <tr>\n",
       "      <th>2</th>\n",
       "      <td>60</td>\n",
       "      <td>103</td>\n",
       "      <td>135</td>\n",
       "      <td>340.0</td>\n",
       "    </tr>\n",
       "    <tr>\n",
       "      <th>3</th>\n",
       "      <td>45</td>\n",
       "      <td>109</td>\n",
       "      <td>175</td>\n",
       "      <td>282.4</td>\n",
       "    </tr>\n",
       "    <tr>\n",
       "      <th>4</th>\n",
       "      <td>45</td>\n",
       "      <td>117</td>\n",
       "      <td>148</td>\n",
       "      <td>406.0</td>\n",
       "    </tr>\n",
       "    <tr>\n",
       "      <th>...</th>\n",
       "      <td>...</td>\n",
       "      <td>...</td>\n",
       "      <td>...</td>\n",
       "      <td>...</td>\n",
       "    </tr>\n",
       "    <tr>\n",
       "      <th>164</th>\n",
       "      <td>60</td>\n",
       "      <td>105</td>\n",
       "      <td>140</td>\n",
       "      <td>290.8</td>\n",
       "    </tr>\n",
       "    <tr>\n",
       "      <th>165</th>\n",
       "      <td>60</td>\n",
       "      <td>110</td>\n",
       "      <td>145</td>\n",
       "      <td>300.0</td>\n",
       "    </tr>\n",
       "    <tr>\n",
       "      <th>166</th>\n",
       "      <td>60</td>\n",
       "      <td>115</td>\n",
       "      <td>145</td>\n",
       "      <td>310.2</td>\n",
       "    </tr>\n",
       "    <tr>\n",
       "      <th>167</th>\n",
       "      <td>75</td>\n",
       "      <td>120</td>\n",
       "      <td>150</td>\n",
       "      <td>320.4</td>\n",
       "    </tr>\n",
       "    <tr>\n",
       "      <th>168</th>\n",
       "      <td>75</td>\n",
       "      <td>125</td>\n",
       "      <td>150</td>\n",
       "      <td>330.4</td>\n",
       "    </tr>\n",
       "  </tbody>\n",
       "</table>\n",
       "<p>169 rows × 4 columns</p>\n",
       "</div>"
      ],
      "text/plain": [
       "     Duration  Pulse  Maxpulse  Calories\n",
       "0          60    110       130     409.1\n",
       "1          60    117       145     479.0\n",
       "2          60    103       135     340.0\n",
       "3          45    109       175     282.4\n",
       "4          45    117       148     406.0\n",
       "..        ...    ...       ...       ...\n",
       "164        60    105       140     290.8\n",
       "165        60    110       145     300.0\n",
       "166        60    115       145     310.2\n",
       "167        75    120       150     320.4\n",
       "168        75    125       150     330.4\n",
       "\n",
       "[169 rows x 4 columns]"
      ]
     },
     "execution_count": 102,
     "metadata": {},
     "output_type": "execute_result"
    }
   ],
   "source": [
    "x = df[\"Calories\"].mean()\n",
    "df[\"Calories\"].fillna(x, inplace = True)\n",
    "df"
   ]
  },
  {
   "cell_type": "code",
   "execution_count": 103,
   "metadata": {},
   "outputs": [
    {
     "data": {
      "text/html": [
       "<div>\n",
       "<style scoped>\n",
       "    .dataframe tbody tr th:only-of-type {\n",
       "        vertical-align: middle;\n",
       "    }\n",
       "\n",
       "    .dataframe tbody tr th {\n",
       "        vertical-align: top;\n",
       "    }\n",
       "\n",
       "    .dataframe thead th {\n",
       "        text-align: right;\n",
       "    }\n",
       "</style>\n",
       "<table border=\"1\" class=\"dataframe\">\n",
       "  <thead>\n",
       "    <tr style=\"text-align: right;\">\n",
       "      <th></th>\n",
       "      <th>Duration</th>\n",
       "      <th>Pulse</th>\n",
       "      <th>Maxpulse</th>\n",
       "      <th>Calories</th>\n",
       "    </tr>\n",
       "  </thead>\n",
       "  <tbody>\n",
       "    <tr>\n",
       "      <th>0</th>\n",
       "      <td>60</td>\n",
       "      <td>110</td>\n",
       "      <td>130</td>\n",
       "      <td>409.1</td>\n",
       "    </tr>\n",
       "    <tr>\n",
       "      <th>1</th>\n",
       "      <td>60</td>\n",
       "      <td>117</td>\n",
       "      <td>145</td>\n",
       "      <td>479.0</td>\n",
       "    </tr>\n",
       "    <tr>\n",
       "      <th>2</th>\n",
       "      <td>60</td>\n",
       "      <td>103</td>\n",
       "      <td>135</td>\n",
       "      <td>340.0</td>\n",
       "    </tr>\n",
       "    <tr>\n",
       "      <th>3</th>\n",
       "      <td>45</td>\n",
       "      <td>109</td>\n",
       "      <td>175</td>\n",
       "      <td>282.4</td>\n",
       "    </tr>\n",
       "    <tr>\n",
       "      <th>4</th>\n",
       "      <td>45</td>\n",
       "      <td>117</td>\n",
       "      <td>148</td>\n",
       "      <td>406.0</td>\n",
       "    </tr>\n",
       "    <tr>\n",
       "      <th>...</th>\n",
       "      <td>...</td>\n",
       "      <td>...</td>\n",
       "      <td>...</td>\n",
       "      <td>...</td>\n",
       "    </tr>\n",
       "    <tr>\n",
       "      <th>164</th>\n",
       "      <td>60</td>\n",
       "      <td>105</td>\n",
       "      <td>140</td>\n",
       "      <td>290.8</td>\n",
       "    </tr>\n",
       "    <tr>\n",
       "      <th>165</th>\n",
       "      <td>60</td>\n",
       "      <td>110</td>\n",
       "      <td>145</td>\n",
       "      <td>300.0</td>\n",
       "    </tr>\n",
       "    <tr>\n",
       "      <th>166</th>\n",
       "      <td>60</td>\n",
       "      <td>115</td>\n",
       "      <td>145</td>\n",
       "      <td>310.2</td>\n",
       "    </tr>\n",
       "    <tr>\n",
       "      <th>167</th>\n",
       "      <td>75</td>\n",
       "      <td>120</td>\n",
       "      <td>150</td>\n",
       "      <td>320.4</td>\n",
       "    </tr>\n",
       "    <tr>\n",
       "      <th>168</th>\n",
       "      <td>75</td>\n",
       "      <td>125</td>\n",
       "      <td>150</td>\n",
       "      <td>330.4</td>\n",
       "    </tr>\n",
       "  </tbody>\n",
       "</table>\n",
       "<p>169 rows × 4 columns</p>\n",
       "</div>"
      ],
      "text/plain": [
       "     Duration  Pulse  Maxpulse  Calories\n",
       "0          60    110       130     409.1\n",
       "1          60    117       145     479.0\n",
       "2          60    103       135     340.0\n",
       "3          45    109       175     282.4\n",
       "4          45    117       148     406.0\n",
       "..        ...    ...       ...       ...\n",
       "164        60    105       140     290.8\n",
       "165        60    110       145     300.0\n",
       "166        60    115       145     310.2\n",
       "167        75    120       150     320.4\n",
       "168        75    125       150     330.4\n",
       "\n",
       "[169 rows x 4 columns]"
      ]
     },
     "execution_count": 103,
     "metadata": {},
     "output_type": "execute_result"
    }
   ],
   "source": [
    "median = df[\"Calories\"].median()\n",
    "df[\"Calories\"].fillna(median, inplace = True)\n",
    "df"
   ]
  },
  {
   "cell_type": "code",
   "execution_count": 104,
   "metadata": {},
   "outputs": [
    {
     "data": {
      "text/html": [
       "<div>\n",
       "<style scoped>\n",
       "    .dataframe tbody tr th:only-of-type {\n",
       "        vertical-align: middle;\n",
       "    }\n",
       "\n",
       "    .dataframe tbody tr th {\n",
       "        vertical-align: top;\n",
       "    }\n",
       "\n",
       "    .dataframe thead th {\n",
       "        text-align: right;\n",
       "    }\n",
       "</style>\n",
       "<table border=\"1\" class=\"dataframe\">\n",
       "  <thead>\n",
       "    <tr style=\"text-align: right;\">\n",
       "      <th></th>\n",
       "      <th>Duration</th>\n",
       "      <th>Pulse</th>\n",
       "      <th>Maxpulse</th>\n",
       "      <th>Calories</th>\n",
       "    </tr>\n",
       "  </thead>\n",
       "  <tbody>\n",
       "    <tr>\n",
       "      <th>0</th>\n",
       "      <td>60</td>\n",
       "      <td>110</td>\n",
       "      <td>130</td>\n",
       "      <td>409.1</td>\n",
       "    </tr>\n",
       "    <tr>\n",
       "      <th>1</th>\n",
       "      <td>60</td>\n",
       "      <td>117</td>\n",
       "      <td>145</td>\n",
       "      <td>479.0</td>\n",
       "    </tr>\n",
       "    <tr>\n",
       "      <th>2</th>\n",
       "      <td>60</td>\n",
       "      <td>103</td>\n",
       "      <td>135</td>\n",
       "      <td>340.0</td>\n",
       "    </tr>\n",
       "    <tr>\n",
       "      <th>3</th>\n",
       "      <td>45</td>\n",
       "      <td>109</td>\n",
       "      <td>175</td>\n",
       "      <td>282.4</td>\n",
       "    </tr>\n",
       "    <tr>\n",
       "      <th>4</th>\n",
       "      <td>45</td>\n",
       "      <td>117</td>\n",
       "      <td>148</td>\n",
       "      <td>406.0</td>\n",
       "    </tr>\n",
       "    <tr>\n",
       "      <th>...</th>\n",
       "      <td>...</td>\n",
       "      <td>...</td>\n",
       "      <td>...</td>\n",
       "      <td>...</td>\n",
       "    </tr>\n",
       "    <tr>\n",
       "      <th>164</th>\n",
       "      <td>60</td>\n",
       "      <td>105</td>\n",
       "      <td>140</td>\n",
       "      <td>290.8</td>\n",
       "    </tr>\n",
       "    <tr>\n",
       "      <th>165</th>\n",
       "      <td>60</td>\n",
       "      <td>110</td>\n",
       "      <td>145</td>\n",
       "      <td>300.0</td>\n",
       "    </tr>\n",
       "    <tr>\n",
       "      <th>166</th>\n",
       "      <td>60</td>\n",
       "      <td>115</td>\n",
       "      <td>145</td>\n",
       "      <td>310.2</td>\n",
       "    </tr>\n",
       "    <tr>\n",
       "      <th>167</th>\n",
       "      <td>75</td>\n",
       "      <td>120</td>\n",
       "      <td>150</td>\n",
       "      <td>320.4</td>\n",
       "    </tr>\n",
       "    <tr>\n",
       "      <th>168</th>\n",
       "      <td>75</td>\n",
       "      <td>125</td>\n",
       "      <td>150</td>\n",
       "      <td>330.4</td>\n",
       "    </tr>\n",
       "  </tbody>\n",
       "</table>\n",
       "<p>169 rows × 4 columns</p>\n",
       "</div>"
      ],
      "text/plain": [
       "     Duration  Pulse  Maxpulse  Calories\n",
       "0          60    110       130     409.1\n",
       "1          60    117       145     479.0\n",
       "2          60    103       135     340.0\n",
       "3          45    109       175     282.4\n",
       "4          45    117       148     406.0\n",
       "..        ...    ...       ...       ...\n",
       "164        60    105       140     290.8\n",
       "165        60    110       145     300.0\n",
       "166        60    115       145     310.2\n",
       "167        75    120       150     320.4\n",
       "168        75    125       150     330.4\n",
       "\n",
       "[169 rows x 4 columns]"
      ]
     },
     "execution_count": 104,
     "metadata": {},
     "output_type": "execute_result"
    }
   ],
   "source": [
    "mode = df[\"Calories\"].mode()[0]\n",
    "df[\"Calories\"].fillna(mode, inplace = True)\n",
    "df"
   ]
  },
  {
   "cell_type": "code",
   "execution_count": 109,
   "metadata": {},
   "outputs": [
    {
     "data": {
      "text/html": [
       "<div>\n",
       "<style scoped>\n",
       "    .dataframe tbody tr th:only-of-type {\n",
       "        vertical-align: middle;\n",
       "    }\n",
       "\n",
       "    .dataframe tbody tr th {\n",
       "        vertical-align: top;\n",
       "    }\n",
       "\n",
       "    .dataframe thead th {\n",
       "        text-align: right;\n",
       "    }\n",
       "</style>\n",
       "<table border=\"1\" class=\"dataframe\">\n",
       "  <thead>\n",
       "    <tr style=\"text-align: right;\">\n",
       "      <th></th>\n",
       "      <th>Duration</th>\n",
       "      <th>Pulse</th>\n",
       "      <th>Maxpulse</th>\n",
       "      <th>Calories</th>\n",
       "    </tr>\n",
       "  </thead>\n",
       "  <tbody>\n",
       "    <tr>\n",
       "      <th>0</th>\n",
       "      <td>60</td>\n",
       "      <td>110</td>\n",
       "      <td>130</td>\n",
       "      <td>409.1</td>\n",
       "    </tr>\n",
       "    <tr>\n",
       "      <th>1</th>\n",
       "      <td>60</td>\n",
       "      <td>117</td>\n",
       "      <td>145</td>\n",
       "      <td>479.0</td>\n",
       "    </tr>\n",
       "    <tr>\n",
       "      <th>2</th>\n",
       "      <td>60</td>\n",
       "      <td>103</td>\n",
       "      <td>135</td>\n",
       "      <td>340.0</td>\n",
       "    </tr>\n",
       "    <tr>\n",
       "      <th>3</th>\n",
       "      <td>45</td>\n",
       "      <td>109</td>\n",
       "      <td>175</td>\n",
       "      <td>282.4</td>\n",
       "    </tr>\n",
       "    <tr>\n",
       "      <th>4</th>\n",
       "      <td>45</td>\n",
       "      <td>117</td>\n",
       "      <td>148</td>\n",
       "      <td>406.0</td>\n",
       "    </tr>\n",
       "    <tr>\n",
       "      <th>...</th>\n",
       "      <td>...</td>\n",
       "      <td>...</td>\n",
       "      <td>...</td>\n",
       "      <td>...</td>\n",
       "    </tr>\n",
       "    <tr>\n",
       "      <th>164</th>\n",
       "      <td>60</td>\n",
       "      <td>105</td>\n",
       "      <td>140</td>\n",
       "      <td>290.8</td>\n",
       "    </tr>\n",
       "    <tr>\n",
       "      <th>165</th>\n",
       "      <td>60</td>\n",
       "      <td>110</td>\n",
       "      <td>145</td>\n",
       "      <td>300.0</td>\n",
       "    </tr>\n",
       "    <tr>\n",
       "      <th>166</th>\n",
       "      <td>60</td>\n",
       "      <td>115</td>\n",
       "      <td>145</td>\n",
       "      <td>310.2</td>\n",
       "    </tr>\n",
       "    <tr>\n",
       "      <th>167</th>\n",
       "      <td>75</td>\n",
       "      <td>120</td>\n",
       "      <td>150</td>\n",
       "      <td>320.4</td>\n",
       "    </tr>\n",
       "    <tr>\n",
       "      <th>168</th>\n",
       "      <td>75</td>\n",
       "      <td>125</td>\n",
       "      <td>150</td>\n",
       "      <td>330.4</td>\n",
       "    </tr>\n",
       "  </tbody>\n",
       "</table>\n",
       "<p>169 rows × 4 columns</p>\n",
       "</div>"
      ],
      "text/plain": [
       "     Duration  Pulse  Maxpulse  Calories\n",
       "0          60    110       130     409.1\n",
       "1          60    117       145     479.0\n",
       "2          60    103       135     340.0\n",
       "3          45    109       175     282.4\n",
       "4          45    117       148     406.0\n",
       "..        ...    ...       ...       ...\n",
       "164        60    105       140     290.8\n",
       "165        60    110       145     300.0\n",
       "166        60    115       145     310.2\n",
       "167        75    120       150     320.4\n",
       "168        75    125       150     330.4\n",
       "\n",
       "[169 rows x 4 columns]"
      ]
     },
     "execution_count": 109,
     "metadata": {},
     "output_type": "execute_result"
    }
   ],
   "source": [
    "df = pd.read_csv('data.csv')\n",
    "df.drop_duplicates()\n",
    "df"
   ]
  },
  {
   "cell_type": "code",
   "execution_count": 112,
   "metadata": {},
   "outputs": [],
   "source": [
    "import matplotlib.pyplot as plt"
   ]
  },
  {
   "cell_type": "code",
   "execution_count": 113,
   "metadata": {},
   "outputs": [
    {
     "data": {
      "image/png": "[encoded data removed]",
      "text/plain": [
       "<Figure size 432x288 with 1 Axes>"
      ]
     },
     "metadata": {
      "needs_background": "light"
     },
     "output_type": "display_data"
    }
   ],
   "source": [
    "df.plot()\n",
    "plt.show()"
   ]
  },
  {
   "cell_type": "code",
   "execution_count": 115,
   "metadata": {},
   "outputs": [
    {
     "data": {
      "image/png": "[encoded data removed]",
      "text/plain": [
       "<Figure size 432x288 with 1 Axes>"
      ]
     },
     "metadata": {
      "needs_background": "light"
     },
     "output_type": "display_data"
    }
   ],
   "source": [
    "df.plot(kind = 'scatter', x = 'Duration', y = 'Calories') \n",
    "plt.show()"
   ]
  },
  {
   "cell_type": "code",
   "execution_count": 117,
   "metadata": {},
   "outputs": [
    {
     "data": {
      "image/png": "[encoded data removed]",
      "text/plain": [
       "<Figure size 432x288 with 1 Axes>"
      ]
     },
     "metadata": {
      "needs_background": "light"
     },
     "output_type": "display_data"
    }
   ],
   "source": [
    "df[\"Duration\"].plot(kind = 'hist')\n",
    "plt.show()"
   ]
  },
  {
   "cell_type": "code",
   "execution_count": 120,
   "metadata": {},
   "outputs": [
    {
     "data": {
      "image/png": "[encoded data removed]",
      "text/plain": [
       "<Figure size 720x504 with 1 Axes>"
      ]
     },
     "metadata": {
      "needs_background": "light"
     },
     "output_type": "display_data"
    }
   ],
   "source": [
    "np.random.seed(10)\n",
    "data = np.random.normal(100, 20, 200) \n",
    "fig = plt.figure(figsize =(10, 7)) \n",
    "plt.boxplot(data)\n",
    "plt.show()\n"
   ]
  },
  {
   "cell_type": "code",
   "execution_count": 123,
   "metadata": {},
   "outputs": [
    {
     "data": {
      "image/png": "[encoded data removed]",
      "text/plain": [
       "<Figure size 432x288 with 1 Axes>"
      ]
     },
     "metadata": {
      "needs_background": "light"
     },
     "output_type": "display_data"
    }
   ],
   "source": [
    " np.random.seed(1234)\n",
    "df = pd.DataFrame(np.random.randn(10, 4),columns=['Col1', 'Col2', 'Col3', 'Col4'])\n",
    "boxplot = df.boxplot(column=['Col1', 'Col2', 'Col3', 'Col4'])"
   ]
  },
  {
   "cell_type": "code",
   "execution_count": 124,
   "metadata": {},
   "outputs": [
    {
     "data": {
      "image/png": "[encoded data removed]",
      "text/plain": [
       "<Figure size 432x288 with 2 Axes>"
      ]
     },
     "metadata": {
      "needs_background": "light"
     },
     "output_type": "display_data"
    }
   ],
   "source": [
    " df = pd.DataFrame(np.random.randn(10, 2),columns=['Col1', 'Col2'])\n",
    "df['X'] = pd.Series(['A', 'A', 'A', 'A', 'A','B', 'B', 'B', 'B', 'B'])\n",
    "boxplot = df.boxplot(by='X')\n"
   ]
  },
  {
   "cell_type": "code",
   "execution_count": 125,
   "metadata": {},
   "outputs": [
    {
     "data": {
      "image/png": "[encoded data removed]",
      "text/plain": [
       "<Figure size 432x288 with 2 Axes>"
      ]
     },
     "metadata": {
      "needs_background": "light"
     },
     "output_type": "display_data"
    }
   ],
   "source": [
    "boxplot = df.boxplot(column=['Col1', 'Col2'], by='X',layout=(2, 1))"
   ]
  },
  {
   "cell_type": "markdown",
   "metadata": {
    "id": "CsSUHR8Cs9vV",
    "tags": []
   },
   "source": [
    "# Practical 3\n",
    "Dimensionality reduction with Sci Kit learn"
   ]
  },
  {
   "cell_type": "code",
   "execution_count": 127,
   "metadata": {},
   "outputs": [
    {
     "data": {
      "text/html": [
       "<div>\n",
       "<style scoped>\n",
       "    .dataframe tbody tr th:only-of-type {\n",
       "        vertical-align: middle;\n",
       "    }\n",
       "\n",
       "    .dataframe tbody tr th {\n",
       "        vertical-align: top;\n",
       "    }\n",
       "\n",
       "    .dataframe thead th {\n",
       "        text-align: right;\n",
       "    }\n",
       "</style>\n",
       "<table border=\"1\" class=\"dataframe\">\n",
       "  <thead>\n",
       "    <tr style=\"text-align: right;\">\n",
       "      <th></th>\n",
       "      <th>day</th>\n",
       "      <th>temperature</th>\n",
       "      <th>windspeed</th>\n",
       "      <th>event</th>\n",
       "    </tr>\n",
       "  </thead>\n",
       "  <tbody>\n",
       "    <tr>\n",
       "      <th>0</th>\n",
       "      <td>2017-01-01</td>\n",
       "      <td>32.0</td>\n",
       "      <td>6.0</td>\n",
       "      <td>Rain</td>\n",
       "    </tr>\n",
       "    <tr>\n",
       "      <th>1</th>\n",
       "      <td>2017-01-04</td>\n",
       "      <td>NaN</td>\n",
       "      <td>9.0</td>\n",
       "      <td>Sunny</td>\n",
       "    </tr>\n",
       "    <tr>\n",
       "      <th>2</th>\n",
       "      <td>2017-01-05</td>\n",
       "      <td>28.0</td>\n",
       "      <td>NaN</td>\n",
       "      <td>Snow</td>\n",
       "    </tr>\n",
       "    <tr>\n",
       "      <th>3</th>\n",
       "      <td>2017-01-06</td>\n",
       "      <td>NaN</td>\n",
       "      <td>7.0</td>\n",
       "      <td>NaN</td>\n",
       "    </tr>\n",
       "    <tr>\n",
       "      <th>4</th>\n",
       "      <td>2017-01-07</td>\n",
       "      <td>32.0</td>\n",
       "      <td>NaN</td>\n",
       "      <td>Rain</td>\n",
       "    </tr>\n",
       "    <tr>\n",
       "      <th>5</th>\n",
       "      <td>2017-01-08</td>\n",
       "      <td>NaN</td>\n",
       "      <td>NaN</td>\n",
       "      <td>Sunny</td>\n",
       "    </tr>\n",
       "    <tr>\n",
       "      <th>6</th>\n",
       "      <td>2017-01-09</td>\n",
       "      <td>NaN</td>\n",
       "      <td>NaN</td>\n",
       "      <td>NaN</td>\n",
       "    </tr>\n",
       "    <tr>\n",
       "      <th>7</th>\n",
       "      <td>2017-01-10</td>\n",
       "      <td>34.0</td>\n",
       "      <td>8.0</td>\n",
       "      <td>Cloudy</td>\n",
       "    </tr>\n",
       "    <tr>\n",
       "      <th>8</th>\n",
       "      <td>2017-01-11</td>\n",
       "      <td>40.0</td>\n",
       "      <td>12.0</td>\n",
       "      <td>Sunny</td>\n",
       "    </tr>\n",
       "  </tbody>\n",
       "</table>\n",
       "</div>"
      ],
      "text/plain": [
       "         day  temperature  windspeed   event\n",
       "0 2017-01-01         32.0        6.0    Rain\n",
       "1 2017-01-04          NaN        9.0   Sunny\n",
       "2 2017-01-05         28.0        NaN    Snow\n",
       "3 2017-01-06          NaN        7.0     NaN\n",
       "4 2017-01-07         32.0        NaN    Rain\n",
       "5 2017-01-08          NaN        NaN   Sunny\n",
       "6 2017-01-09          NaN        NaN     NaN\n",
       "7 2017-01-10         34.0        8.0  Cloudy\n",
       "8 2017-01-11         40.0       12.0   Sunny"
      ]
     },
     "execution_count": 127,
     "metadata": {},
     "output_type": "execute_result"
    }
   ],
   "source": [
    "df = pd.read_csv(\"weather_data.csv\", parse_dates=['day'])\n",
    "df"
   ]
  },
  {
   "cell_type": "code",
   "execution_count": 128,
   "metadata": {},
   "outputs": [
    {
     "data": {
      "text/html": [
       "<div>\n",
       "<style scoped>\n",
       "    .dataframe tbody tr th:only-of-type {\n",
       "        vertical-align: middle;\n",
       "    }\n",
       "\n",
       "    .dataframe tbody tr th {\n",
       "        vertical-align: top;\n",
       "    }\n",
       "\n",
       "    .dataframe thead th {\n",
       "        text-align: right;\n",
       "    }\n",
       "</style>\n",
       "<table border=\"1\" class=\"dataframe\">\n",
       "  <thead>\n",
       "    <tr style=\"text-align: right;\">\n",
       "      <th></th>\n",
       "      <th>temperature</th>\n",
       "      <th>windspeed</th>\n",
       "      <th>event</th>\n",
       "    </tr>\n",
       "    <tr>\n",
       "      <th>day</th>\n",
       "      <th></th>\n",
       "      <th></th>\n",
       "      <th></th>\n",
       "    </tr>\n",
       "  </thead>\n",
       "  <tbody>\n",
       "    <tr>\n",
       "      <th>2017-01-01</th>\n",
       "      <td>32.0</td>\n",
       "      <td>6.0</td>\n",
       "      <td>Rain</td>\n",
       "    </tr>\n",
       "    <tr>\n",
       "      <th>2017-01-04</th>\n",
       "      <td>NaN</td>\n",
       "      <td>9.0</td>\n",
       "      <td>Sunny</td>\n",
       "    </tr>\n",
       "    <tr>\n",
       "      <th>2017-01-05</th>\n",
       "      <td>28.0</td>\n",
       "      <td>NaN</td>\n",
       "      <td>Snow</td>\n",
       "    </tr>\n",
       "    <tr>\n",
       "      <th>2017-01-06</th>\n",
       "      <td>NaN</td>\n",
       "      <td>7.0</td>\n",
       "      <td>NaN</td>\n",
       "    </tr>\n",
       "    <tr>\n",
       "      <th>2017-01-07</th>\n",
       "      <td>32.0</td>\n",
       "      <td>NaN</td>\n",
       "      <td>Rain</td>\n",
       "    </tr>\n",
       "    <tr>\n",
       "      <th>2017-01-08</th>\n",
       "      <td>NaN</td>\n",
       "      <td>NaN</td>\n",
       "      <td>Sunny</td>\n",
       "    </tr>\n",
       "    <tr>\n",
       "      <th>2017-01-09</th>\n",
       "      <td>NaN</td>\n",
       "      <td>NaN</td>\n",
       "      <td>NaN</td>\n",
       "    </tr>\n",
       "    <tr>\n",
       "      <th>2017-01-10</th>\n",
       "      <td>34.0</td>\n",
       "      <td>8.0</td>\n",
       "      <td>Cloudy</td>\n",
       "    </tr>\n",
       "    <tr>\n",
       "      <th>2017-01-11</th>\n",
       "      <td>40.0</td>\n",
       "      <td>12.0</td>\n",
       "      <td>Sunny</td>\n",
       "    </tr>\n",
       "  </tbody>\n",
       "</table>\n",
       "</div>"
      ],
      "text/plain": [
       "            temperature  windspeed   event\n",
       "day                                       \n",
       "2017-01-01         32.0        6.0    Rain\n",
       "2017-01-04          NaN        9.0   Sunny\n",
       "2017-01-05         28.0        NaN    Snow\n",
       "2017-01-06          NaN        7.0     NaN\n",
       "2017-01-07         32.0        NaN    Rain\n",
       "2017-01-08          NaN        NaN   Sunny\n",
       "2017-01-09          NaN        NaN     NaN\n",
       "2017-01-10         34.0        8.0  Cloudy\n",
       "2017-01-11         40.0       12.0   Sunny"
      ]
     },
     "execution_count": 128,
     "metadata": {},
     "output_type": "execute_result"
    }
   ],
   "source": [
    "df.set_index('day', inplace=True) \n",
    "df"
   ]
  },
  {
   "cell_type": "code",
   "execution_count": 129,
   "metadata": {},
   "outputs": [
    {
     "data": {
      "text/html": [
       "<div>\n",
       "<style scoped>\n",
       "    .dataframe tbody tr th:only-of-type {\n",
       "        vertical-align: middle;\n",
       "    }\n",
       "\n",
       "    .dataframe tbody tr th {\n",
       "        vertical-align: top;\n",
       "    }\n",
       "\n",
       "    .dataframe thead th {\n",
       "        text-align: right;\n",
       "    }\n",
       "</style>\n",
       "<table border=\"1\" class=\"dataframe\">\n",
       "  <thead>\n",
       "    <tr style=\"text-align: right;\">\n",
       "      <th></th>\n",
       "      <th>temperature</th>\n",
       "      <th>windspeed</th>\n",
       "    </tr>\n",
       "  </thead>\n",
       "  <tbody>\n",
       "    <tr>\n",
       "      <th>count</th>\n",
       "      <td>5.00000</td>\n",
       "      <td>5.000000</td>\n",
       "    </tr>\n",
       "    <tr>\n",
       "      <th>mean</th>\n",
       "      <td>33.20000</td>\n",
       "      <td>8.400000</td>\n",
       "    </tr>\n",
       "    <tr>\n",
       "      <th>std</th>\n",
       "      <td>4.38178</td>\n",
       "      <td>2.302173</td>\n",
       "    </tr>\n",
       "    <tr>\n",
       "      <th>min</th>\n",
       "      <td>28.00000</td>\n",
       "      <td>6.000000</td>\n",
       "    </tr>\n",
       "    <tr>\n",
       "      <th>25%</th>\n",
       "      <td>32.00000</td>\n",
       "      <td>7.000000</td>\n",
       "    </tr>\n",
       "    <tr>\n",
       "      <th>50%</th>\n",
       "      <td>32.00000</td>\n",
       "      <td>8.000000</td>\n",
       "    </tr>\n",
       "    <tr>\n",
       "      <th>75%</th>\n",
       "      <td>34.00000</td>\n",
       "      <td>9.000000</td>\n",
       "    </tr>\n",
       "    <tr>\n",
       "      <th>max</th>\n",
       "      <td>40.00000</td>\n",
       "      <td>12.000000</td>\n",
       "    </tr>\n",
       "  </tbody>\n",
       "</table>\n",
       "</div>"
      ],
      "text/plain": [
       "       temperature  windspeed\n",
       "count      5.00000   5.000000\n",
       "mean      33.20000   8.400000\n",
       "std        4.38178   2.302173\n",
       "min       28.00000   6.000000\n",
       "25%       32.00000   7.000000\n",
       "50%       32.00000   8.000000\n",
       "75%       34.00000   9.000000\n",
       "max       40.00000  12.000000"
      ]
     },
     "execution_count": 129,
     "metadata": {},
     "output_type": "execute_result"
    }
   ],
   "source": [
    "df.describe()"
   ]
  },
  {
   "cell_type": "code",
   "execution_count": 131,
   "metadata": {},
   "outputs": [
    {
     "data": {
      "text/plain": [
       "temperature    4\n",
       "windspeed      4\n",
       "event          2\n",
       "dtype: int64"
      ]
     },
     "execution_count": 131,
     "metadata": {},
     "output_type": "execute_result"
    }
   ],
   "source": [
    "df.isnull().sum()"
   ]
  },
  {
   "cell_type": "code",
   "execution_count": 134,
   "metadata": {},
   "outputs": [
    {
     "data": {
      "text/html": [
       "<div>\n",
       "<style scoped>\n",
       "    .dataframe tbody tr th:only-of-type {\n",
       "        vertical-align: middle;\n",
       "    }\n",
       "\n",
       "    .dataframe tbody tr th {\n",
       "        vertical-align: top;\n",
       "    }\n",
       "\n",
       "    .dataframe thead th {\n",
       "        text-align: right;\n",
       "    }\n",
       "</style>\n",
       "<table border=\"1\" class=\"dataframe\">\n",
       "  <thead>\n",
       "    <tr style=\"text-align: right;\">\n",
       "      <th></th>\n",
       "      <th>temperature</th>\n",
       "      <th>windspeed</th>\n",
       "      <th>event</th>\n",
       "    </tr>\n",
       "    <tr>\n",
       "      <th>day</th>\n",
       "      <th></th>\n",
       "      <th></th>\n",
       "      <th></th>\n",
       "    </tr>\n",
       "  </thead>\n",
       "  <tbody>\n",
       "    <tr>\n",
       "      <th>2017-01-01</th>\n",
       "      <td>32.0</td>\n",
       "      <td>6.0</td>\n",
       "      <td>Rain</td>\n",
       "    </tr>\n",
       "    <tr>\n",
       "      <th>2017-01-04</th>\n",
       "      <td>-1.0</td>\n",
       "      <td>9.0</td>\n",
       "      <td>Sunny</td>\n",
       "    </tr>\n",
       "    <tr>\n",
       "      <th>2017-01-05</th>\n",
       "      <td>28.0</td>\n",
       "      <td>-1.0</td>\n",
       "      <td>Snow</td>\n",
       "    </tr>\n",
       "    <tr>\n",
       "      <th>2017-01-06</th>\n",
       "      <td>-1.0</td>\n",
       "      <td>7.0</td>\n",
       "      <td>-1</td>\n",
       "    </tr>\n",
       "    <tr>\n",
       "      <th>2017-01-07</th>\n",
       "      <td>32.0</td>\n",
       "      <td>-1.0</td>\n",
       "      <td>Rain</td>\n",
       "    </tr>\n",
       "    <tr>\n",
       "      <th>2017-01-08</th>\n",
       "      <td>-1.0</td>\n",
       "      <td>-1.0</td>\n",
       "      <td>Sunny</td>\n",
       "    </tr>\n",
       "    <tr>\n",
       "      <th>2017-01-09</th>\n",
       "      <td>-1.0</td>\n",
       "      <td>-1.0</td>\n",
       "      <td>-1</td>\n",
       "    </tr>\n",
       "    <tr>\n",
       "      <th>2017-01-10</th>\n",
       "      <td>34.0</td>\n",
       "      <td>8.0</td>\n",
       "      <td>Cloudy</td>\n",
       "    </tr>\n",
       "    <tr>\n",
       "      <th>2017-01-11</th>\n",
       "      <td>40.0</td>\n",
       "      <td>12.0</td>\n",
       "      <td>Sunny</td>\n",
       "    </tr>\n",
       "  </tbody>\n",
       "</table>\n",
       "</div>"
      ],
      "text/plain": [
       "            temperature  windspeed   event\n",
       "day                                       \n",
       "2017-01-01         32.0        6.0    Rain\n",
       "2017-01-04         -1.0        9.0   Sunny\n",
       "2017-01-05         28.0       -1.0    Snow\n",
       "2017-01-06         -1.0        7.0      -1\n",
       "2017-01-07         32.0       -1.0    Rain\n",
       "2017-01-08         -1.0       -1.0   Sunny\n",
       "2017-01-09         -1.0       -1.0      -1\n",
       "2017-01-10         34.0        8.0  Cloudy\n",
       "2017-01-11         40.0       12.0   Sunny"
      ]
     },
     "execution_count": 134,
     "metadata": {},
     "output_type": "execute_result"
    }
   ],
   "source": [
    "new_df = df.fillna(-1)\n",
    "new_df"
   ]
  },
  {
   "cell_type": "code",
   "execution_count": 136,
   "metadata": {},
   "outputs": [
    {
     "data": {
      "text/html": [
       "<div>\n",
       "<style scoped>\n",
       "    .dataframe tbody tr th:only-of-type {\n",
       "        vertical-align: middle;\n",
       "    }\n",
       "\n",
       "    .dataframe tbody tr th {\n",
       "        vertical-align: top;\n",
       "    }\n",
       "\n",
       "    .dataframe thead th {\n",
       "        text-align: right;\n",
       "    }\n",
       "</style>\n",
       "<table border=\"1\" class=\"dataframe\">\n",
       "  <thead>\n",
       "    <tr style=\"text-align: right;\">\n",
       "      <th></th>\n",
       "      <th>temperature</th>\n",
       "      <th>windspeed</th>\n",
       "      <th>event</th>\n",
       "    </tr>\n",
       "    <tr>\n",
       "      <th>day</th>\n",
       "      <th></th>\n",
       "      <th></th>\n",
       "      <th></th>\n",
       "    </tr>\n",
       "  </thead>\n",
       "  <tbody>\n",
       "    <tr>\n",
       "      <th>2017-01-01</th>\n",
       "      <td>32.0</td>\n",
       "      <td>6.0</td>\n",
       "      <td>Rain</td>\n",
       "    </tr>\n",
       "    <tr>\n",
       "      <th>2017-01-04</th>\n",
       "      <td>-1.0</td>\n",
       "      <td>9.0</td>\n",
       "      <td>Sunny</td>\n",
       "    </tr>\n",
       "    <tr>\n",
       "      <th>2017-01-05</th>\n",
       "      <td>28.0</td>\n",
       "      <td>-1.0</td>\n",
       "      <td>Snow</td>\n",
       "    </tr>\n",
       "    <tr>\n",
       "      <th>2017-01-06</th>\n",
       "      <td>-1.0</td>\n",
       "      <td>7.0</td>\n",
       "      <td>No Event</td>\n",
       "    </tr>\n",
       "    <tr>\n",
       "      <th>2017-01-07</th>\n",
       "      <td>32.0</td>\n",
       "      <td>-1.0</td>\n",
       "      <td>Rain</td>\n",
       "    </tr>\n",
       "    <tr>\n",
       "      <th>2017-01-08</th>\n",
       "      <td>-1.0</td>\n",
       "      <td>-1.0</td>\n",
       "      <td>Sunny</td>\n",
       "    </tr>\n",
       "    <tr>\n",
       "      <th>2017-01-09</th>\n",
       "      <td>-1.0</td>\n",
       "      <td>-1.0</td>\n",
       "      <td>No Event</td>\n",
       "    </tr>\n",
       "    <tr>\n",
       "      <th>2017-01-10</th>\n",
       "      <td>34.0</td>\n",
       "      <td>8.0</td>\n",
       "      <td>Cloudy</td>\n",
       "    </tr>\n",
       "    <tr>\n",
       "      <th>2017-01-11</th>\n",
       "      <td>40.0</td>\n",
       "      <td>12.0</td>\n",
       "      <td>Sunny</td>\n",
       "    </tr>\n",
       "  </tbody>\n",
       "</table>\n",
       "</div>"
      ],
      "text/plain": [
       "            temperature  windspeed     event\n",
       "day                                         \n",
       "2017-01-01         32.0        6.0      Rain\n",
       "2017-01-04         -1.0        9.0     Sunny\n",
       "2017-01-05         28.0       -1.0      Snow\n",
       "2017-01-06         -1.0        7.0  No Event\n",
       "2017-01-07         32.0       -1.0      Rain\n",
       "2017-01-08         -1.0       -1.0     Sunny\n",
       "2017-01-09         -1.0       -1.0  No Event\n",
       "2017-01-10         34.0        8.0    Cloudy\n",
       "2017-01-11         40.0       12.0     Sunny"
      ]
     },
     "execution_count": 136,
     "metadata": {},
     "output_type": "execute_result"
    }
   ],
   "source": [
    "new_df = df.fillna({\n",
    " 'temperature': -1,\n",
    " 'windspeed': -1,\n",
    " 'event':'No Event'})\n",
    "new_df\n"
   ]
  },
  {
   "cell_type": "code",
   "execution_count": 137,
   "metadata": {},
   "outputs": [
    {
     "data": {
      "text/plain": [
       "33.2"
      ]
     },
     "execution_count": 137,
     "metadata": {},
     "output_type": "execute_result"
    }
   ],
   "source": [
    "new_df = df['temperature'].mean()\n",
    "new_df"
   ]
  },
  {
   "cell_type": "code",
   "execution_count": 138,
   "metadata": {},
   "outputs": [
    {
     "data": {
      "text/html": [
       "<div>\n",
       "<style scoped>\n",
       "    .dataframe tbody tr th:only-of-type {\n",
       "        vertical-align: middle;\n",
       "    }\n",
       "\n",
       "    .dataframe tbody tr th {\n",
       "        vertical-align: top;\n",
       "    }\n",
       "\n",
       "    .dataframe thead th {\n",
       "        text-align: right;\n",
       "    }\n",
       "</style>\n",
       "<table border=\"1\" class=\"dataframe\">\n",
       "  <thead>\n",
       "    <tr style=\"text-align: right;\">\n",
       "      <th></th>\n",
       "      <th>temperature</th>\n",
       "      <th>windspeed</th>\n",
       "      <th>event</th>\n",
       "    </tr>\n",
       "    <tr>\n",
       "      <th>day</th>\n",
       "      <th></th>\n",
       "      <th></th>\n",
       "      <th></th>\n",
       "    </tr>\n",
       "  </thead>\n",
       "  <tbody>\n",
       "    <tr>\n",
       "      <th>2017-01-01</th>\n",
       "      <td>32.0</td>\n",
       "      <td>6.0</td>\n",
       "      <td>Rain</td>\n",
       "    </tr>\n",
       "    <tr>\n",
       "      <th>2017-01-04</th>\n",
       "      <td>33.2</td>\n",
       "      <td>9.0</td>\n",
       "      <td>Sunny</td>\n",
       "    </tr>\n",
       "    <tr>\n",
       "      <th>2017-01-05</th>\n",
       "      <td>28.0</td>\n",
       "      <td>NaN</td>\n",
       "      <td>Snow</td>\n",
       "    </tr>\n",
       "    <tr>\n",
       "      <th>2017-01-06</th>\n",
       "      <td>33.2</td>\n",
       "      <td>7.0</td>\n",
       "      <td>NaN</td>\n",
       "    </tr>\n",
       "    <tr>\n",
       "      <th>2017-01-07</th>\n",
       "      <td>32.0</td>\n",
       "      <td>NaN</td>\n",
       "      <td>Rain</td>\n",
       "    </tr>\n",
       "    <tr>\n",
       "      <th>2017-01-08</th>\n",
       "      <td>33.2</td>\n",
       "      <td>NaN</td>\n",
       "      <td>Sunny</td>\n",
       "    </tr>\n",
       "    <tr>\n",
       "      <th>2017-01-09</th>\n",
       "      <td>33.2</td>\n",
       "      <td>NaN</td>\n",
       "      <td>NaN</td>\n",
       "    </tr>\n",
       "    <tr>\n",
       "      <th>2017-01-10</th>\n",
       "      <td>34.0</td>\n",
       "      <td>8.0</td>\n",
       "      <td>Cloudy</td>\n",
       "    </tr>\n",
       "    <tr>\n",
       "      <th>2017-01-11</th>\n",
       "      <td>40.0</td>\n",
       "      <td>12.0</td>\n",
       "      <td>Sunny</td>\n",
       "    </tr>\n",
       "  </tbody>\n",
       "</table>\n",
       "</div>"
      ],
      "text/plain": [
       "            temperature  windspeed   event\n",
       "day                                       \n",
       "2017-01-01         32.0        6.0    Rain\n",
       "2017-01-04         33.2        9.0   Sunny\n",
       "2017-01-05         28.0        NaN    Snow\n",
       "2017-01-06         33.2        7.0     NaN\n",
       "2017-01-07         32.0        NaN    Rain\n",
       "2017-01-08         33.2        NaN   Sunny\n",
       "2017-01-09         33.2        NaN     NaN\n",
       "2017-01-10         34.0        8.0  Cloudy\n",
       "2017-01-11         40.0       12.0   Sunny"
      ]
     },
     "execution_count": 138,
     "metadata": {},
     "output_type": "execute_result"
    }
   ],
   "source": [
    "df['temperature'].fillna(value=new_df, inplace=True)\n",
    "df"
   ]
  },
  {
   "cell_type": "code",
   "execution_count": 140,
   "metadata": {},
   "outputs": [
    {
     "data": {
      "text/plain": [
       "8.4"
      ]
     },
     "execution_count": 140,
     "metadata": {},
     "output_type": "execute_result"
    }
   ],
   "source": [
    "new_df = df['windspeed'].mean() \n",
    "new_df"
   ]
  },
  {
   "cell_type": "code",
   "execution_count": 141,
   "metadata": {},
   "outputs": [
    {
     "data": {
      "text/html": [
       "<div>\n",
       "<style scoped>\n",
       "    .dataframe tbody tr th:only-of-type {\n",
       "        vertical-align: middle;\n",
       "    }\n",
       "\n",
       "    .dataframe tbody tr th {\n",
       "        vertical-align: top;\n",
       "    }\n",
       "\n",
       "    .dataframe thead th {\n",
       "        text-align: right;\n",
       "    }\n",
       "</style>\n",
       "<table border=\"1\" class=\"dataframe\">\n",
       "  <thead>\n",
       "    <tr style=\"text-align: right;\">\n",
       "      <th></th>\n",
       "      <th>temperature</th>\n",
       "      <th>windspeed</th>\n",
       "      <th>event</th>\n",
       "    </tr>\n",
       "    <tr>\n",
       "      <th>day</th>\n",
       "      <th></th>\n",
       "      <th></th>\n",
       "      <th></th>\n",
       "    </tr>\n",
       "  </thead>\n",
       "  <tbody>\n",
       "    <tr>\n",
       "      <th>2017-01-01</th>\n",
       "      <td>32.0</td>\n",
       "      <td>6.0</td>\n",
       "      <td>Rain</td>\n",
       "    </tr>\n",
       "    <tr>\n",
       "      <th>2017-01-04</th>\n",
       "      <td>33.2</td>\n",
       "      <td>9.0</td>\n",
       "      <td>Sunny</td>\n",
       "    </tr>\n",
       "    <tr>\n",
       "      <th>2017-01-05</th>\n",
       "      <td>28.0</td>\n",
       "      <td>8.4</td>\n",
       "      <td>Snow</td>\n",
       "    </tr>\n",
       "    <tr>\n",
       "      <th>2017-01-06</th>\n",
       "      <td>33.2</td>\n",
       "      <td>7.0</td>\n",
       "      <td>NaN</td>\n",
       "    </tr>\n",
       "    <tr>\n",
       "      <th>2017-01-07</th>\n",
       "      <td>32.0</td>\n",
       "      <td>8.4</td>\n",
       "      <td>Rain</td>\n",
       "    </tr>\n",
       "    <tr>\n",
       "      <th>2017-01-08</th>\n",
       "      <td>33.2</td>\n",
       "      <td>8.4</td>\n",
       "      <td>Sunny</td>\n",
       "    </tr>\n",
       "    <tr>\n",
       "      <th>2017-01-09</th>\n",
       "      <td>33.2</td>\n",
       "      <td>8.4</td>\n",
       "      <td>NaN</td>\n",
       "    </tr>\n",
       "    <tr>\n",
       "      <th>2017-01-10</th>\n",
       "      <td>34.0</td>\n",
       "      <td>8.0</td>\n",
       "      <td>Cloudy</td>\n",
       "    </tr>\n",
       "    <tr>\n",
       "      <th>2017-01-11</th>\n",
       "      <td>40.0</td>\n",
       "      <td>12.0</td>\n",
       "      <td>Sunny</td>\n",
       "    </tr>\n",
       "  </tbody>\n",
       "</table>\n",
       "</div>"
      ],
      "text/plain": [
       "            temperature  windspeed   event\n",
       "day                                       \n",
       "2017-01-01         32.0        6.0    Rain\n",
       "2017-01-04         33.2        9.0   Sunny\n",
       "2017-01-05         28.0        8.4    Snow\n",
       "2017-01-06         33.2        7.0     NaN\n",
       "2017-01-07         32.0        8.4    Rain\n",
       "2017-01-08         33.2        8.4   Sunny\n",
       "2017-01-09         33.2        8.4     NaN\n",
       "2017-01-10         34.0        8.0  Cloudy\n",
       "2017-01-11         40.0       12.0   Sunny"
      ]
     },
     "execution_count": 141,
     "metadata": {},
     "output_type": "execute_result"
    }
   ],
   "source": [
    "df['windspeed'].fillna(value=new_df, inplace=True) \n",
    "df"
   ]
  },
  {
   "cell_type": "code",
   "execution_count": 142,
   "metadata": {},
   "outputs": [
    {
     "data": {
      "text/html": [
       "<div>\n",
       "<style scoped>\n",
       "    .dataframe tbody tr th:only-of-type {\n",
       "        vertical-align: middle;\n",
       "    }\n",
       "\n",
       "    .dataframe tbody tr th {\n",
       "        vertical-align: top;\n",
       "    }\n",
       "\n",
       "    .dataframe thead th {\n",
       "        text-align: right;\n",
       "    }\n",
       "</style>\n",
       "<table border=\"1\" class=\"dataframe\">\n",
       "  <thead>\n",
       "    <tr style=\"text-align: right;\">\n",
       "      <th></th>\n",
       "      <th>temperature</th>\n",
       "      <th>windspeed</th>\n",
       "      <th>event</th>\n",
       "    </tr>\n",
       "    <tr>\n",
       "      <th>day</th>\n",
       "      <th></th>\n",
       "      <th></th>\n",
       "      <th></th>\n",
       "    </tr>\n",
       "  </thead>\n",
       "  <tbody>\n",
       "    <tr>\n",
       "      <th>2017-01-01</th>\n",
       "      <td>32.0</td>\n",
       "      <td>6.0</td>\n",
       "      <td>Rain</td>\n",
       "    </tr>\n",
       "    <tr>\n",
       "      <th>2017-01-04</th>\n",
       "      <td>33.2</td>\n",
       "      <td>9.0</td>\n",
       "      <td>Sunny</td>\n",
       "    </tr>\n",
       "    <tr>\n",
       "      <th>2017-01-05</th>\n",
       "      <td>28.0</td>\n",
       "      <td>8.4</td>\n",
       "      <td>Snow</td>\n",
       "    </tr>\n",
       "    <tr>\n",
       "      <th>2017-01-06</th>\n",
       "      <td>33.2</td>\n",
       "      <td>7.0</td>\n",
       "      <td>Snow</td>\n",
       "    </tr>\n",
       "    <tr>\n",
       "      <th>2017-01-07</th>\n",
       "      <td>32.0</td>\n",
       "      <td>8.4</td>\n",
       "      <td>Rain</td>\n",
       "    </tr>\n",
       "    <tr>\n",
       "      <th>2017-01-08</th>\n",
       "      <td>33.2</td>\n",
       "      <td>8.4</td>\n",
       "      <td>Sunny</td>\n",
       "    </tr>\n",
       "    <tr>\n",
       "      <th>2017-01-09</th>\n",
       "      <td>33.2</td>\n",
       "      <td>8.4</td>\n",
       "      <td>Sunny</td>\n",
       "    </tr>\n",
       "    <tr>\n",
       "      <th>2017-01-10</th>\n",
       "      <td>34.0</td>\n",
       "      <td>8.0</td>\n",
       "      <td>Cloudy</td>\n",
       "    </tr>\n",
       "    <tr>\n",
       "      <th>2017-01-11</th>\n",
       "      <td>40.0</td>\n",
       "      <td>12.0</td>\n",
       "      <td>Sunny</td>\n",
       "    </tr>\n",
       "  </tbody>\n",
       "</table>\n",
       "</div>"
      ],
      "text/plain": [
       "            temperature  windspeed   event\n",
       "day                                       \n",
       "2017-01-01         32.0        6.0    Rain\n",
       "2017-01-04         33.2        9.0   Sunny\n",
       "2017-01-05         28.0        8.4    Snow\n",
       "2017-01-06         33.2        7.0    Snow\n",
       "2017-01-07         32.0        8.4    Rain\n",
       "2017-01-08         33.2        8.4   Sunny\n",
       "2017-01-09         33.2        8.4   Sunny\n",
       "2017-01-10         34.0        8.0  Cloudy\n",
       "2017-01-11         40.0       12.0   Sunny"
      ]
     },
     "execution_count": 142,
     "metadata": {},
     "output_type": "execute_result"
    }
   ],
   "source": [
    "new_df = df.fillna(method='ffill',limit=1)\n",
    "new_df"
   ]
  },
  {
   "cell_type": "code",
   "execution_count": 143,
   "metadata": {},
   "outputs": [
    {
     "data": {
      "text/html": [
       "<div>\n",
       "<style scoped>\n",
       "    .dataframe tbody tr th:only-of-type {\n",
       "        vertical-align: middle;\n",
       "    }\n",
       "\n",
       "    .dataframe tbody tr th {\n",
       "        vertical-align: top;\n",
       "    }\n",
       "\n",
       "    .dataframe thead th {\n",
       "        text-align: right;\n",
       "    }\n",
       "</style>\n",
       "<table border=\"1\" class=\"dataframe\">\n",
       "  <thead>\n",
       "    <tr style=\"text-align: right;\">\n",
       "      <th></th>\n",
       "      <th>temperature</th>\n",
       "      <th>windspeed</th>\n",
       "    </tr>\n",
       "  </thead>\n",
       "  <tbody>\n",
       "    <tr>\n",
       "      <th>count</th>\n",
       "      <td>9.000000</td>\n",
       "      <td>9.000000</td>\n",
       "    </tr>\n",
       "    <tr>\n",
       "      <th>mean</th>\n",
       "      <td>33.200000</td>\n",
       "      <td>8.400000</td>\n",
       "    </tr>\n",
       "    <tr>\n",
       "      <th>std</th>\n",
       "      <td>3.098387</td>\n",
       "      <td>1.627882</td>\n",
       "    </tr>\n",
       "    <tr>\n",
       "      <th>min</th>\n",
       "      <td>28.000000</td>\n",
       "      <td>6.000000</td>\n",
       "    </tr>\n",
       "    <tr>\n",
       "      <th>25%</th>\n",
       "      <td>32.000000</td>\n",
       "      <td>8.000000</td>\n",
       "    </tr>\n",
       "    <tr>\n",
       "      <th>50%</th>\n",
       "      <td>33.200000</td>\n",
       "      <td>8.400000</td>\n",
       "    </tr>\n",
       "    <tr>\n",
       "      <th>75%</th>\n",
       "      <td>33.200000</td>\n",
       "      <td>8.400000</td>\n",
       "    </tr>\n",
       "    <tr>\n",
       "      <th>max</th>\n",
       "      <td>40.000000</td>\n",
       "      <td>12.000000</td>\n",
       "    </tr>\n",
       "  </tbody>\n",
       "</table>\n",
       "</div>"
      ],
      "text/plain": [
       "       temperature  windspeed\n",
       "count     9.000000   9.000000\n",
       "mean     33.200000   8.400000\n",
       "std       3.098387   1.627882\n",
       "min      28.000000   6.000000\n",
       "25%      32.000000   8.000000\n",
       "50%      33.200000   8.400000\n",
       "75%      33.200000   8.400000\n",
       "max      40.000000  12.000000"
      ]
     },
     "execution_count": 143,
     "metadata": {},
     "output_type": "execute_result"
    }
   ],
   "source": [
    "new_df.describe()"
   ]
  },
  {
   "cell_type": "code",
   "execution_count": 145,
   "metadata": {},
   "outputs": [
    {
     "name": "stdout",
     "output_type": "stream",
     "text": [
      "          day  temperature  windspeed  event\n",
      "0  2017-01-01         32.0        6.0   Rain\n",
      "1  2017-01-04          NaN        9.0  Sunny\n",
      "2  2017-01-05         28.0        NaN   Snow\n",
      "3  2017-01-06          NaN        7.0    NaN\n",
      "4  2017-01-07         32.0        NaN   Rain\n"
     ]
    }
   ],
   "source": [
    "data = pd.read_csv(\"weather_data.csv\") \n",
    "print(data.head())"
   ]
  },
  {
   "cell_type": "code",
   "execution_count": 146,
   "metadata": {},
   "outputs": [
    {
     "name": "stdout",
     "output_type": "stream",
     "text": [
      "['Rain' 'Sunny' 'Snow' nan 'Cloudy']\n",
      "[32. nan 28. 34. 40.]\n"
     ]
    }
   ],
   "source": [
    "print(data['event'].unique()) \n",
    "print(data['temperature'].unique())"
   ]
  },
  {
   "cell_type": "code",
   "execution_count": 147,
   "metadata": {},
   "outputs": [
    {
     "data": {
      "text/plain": [
       "Sunny     3\n",
       "Rain      2\n",
       "Snow      1\n",
       "Cloudy    1\n",
       "Name: event, dtype: int64"
      ]
     },
     "execution_count": 147,
     "metadata": {},
     "output_type": "execute_result"
    }
   ],
   "source": [
    "data['event'].value_counts()"
   ]
  },
  {
   "cell_type": "code",
   "execution_count": 148,
   "metadata": {},
   "outputs": [
    {
     "name": "stdout",
     "output_type": "stream",
     "text": [
      "          day  temperature  windspeed  event_Cloudy  event_Rain  event_Snow  \\\n",
      "0  2017-01-01         32.0        6.0             0           1           0   \n",
      "1  2017-01-04          NaN        9.0             0           0           0   \n",
      "2  2017-01-05         28.0        NaN             0           0           1   \n",
      "3  2017-01-06          NaN        7.0             0           0           0   \n",
      "4  2017-01-07         32.0        NaN             0           1           0   \n",
      "5  2017-01-08          NaN        NaN             0           0           0   \n",
      "6  2017-01-09          NaN        NaN             0           0           0   \n",
      "7  2017-01-10         34.0        8.0             1           0           0   \n",
      "8  2017-01-11         40.0       12.0             0           0           0   \n",
      "\n",
      "   event_Sunny  \n",
      "0            0  \n",
      "1            1  \n",
      "2            0  \n",
      "3            0  \n",
      "4            0  \n",
      "5            1  \n",
      "6            0  \n",
      "7            0  \n",
      "8            1  \n"
     ]
    }
   ],
   "source": [
    "one_hot_encoded_data = pd.get_dummies(data, columns = ['event']) \n",
    "print(one_hot_encoded_data)"
   ]
  },
  {
   "cell_type": "code",
   "execution_count": 151,
   "metadata": {},
   "outputs": [
    {
     "name": "stdout",
     "output_type": "stream",
     "text": [
      "          day  temperature  windspeed  event\n",
      "0  2017-01-01         32.0        6.0   Rain\n",
      "1  2017-01-04          NaN        9.0  Sunny\n",
      "2  2017-01-05         28.0        NaN   Snow\n",
      "3  2017-01-06          NaN        7.0    NaN\n",
      "4  2017-01-07         32.0        NaN   Rain\n",
      "\n",
      "shape of original dataset : (9, 4)\n",
      "shape of input - training set (7, 3)\n",
      "shape of output - training set (7,)\n",
      "shape of input - testing set (2, 3)\n",
      "shape of output - testing set (2,)\n"
     ]
    }
   ],
   "source": [
    "weather = pd.read_csv(\"weather_data.csv\") \n",
    "print(weather.head())\n",
    "print()\n",
    "y= weather.temperature\n",
    "x=weather.drop('temperature',axis=1)\n",
    "x_train,x_test,y_train,y_test=train_test_split(x,y,test_size=0.2)\n",
    "\n",
    "print(\"shape of original dataset :\", weather.shape)\n",
    "print(\"shape of input - training set\", x_train.shape)\n",
    "print(\"shape of output - training set\", y_train.shape)\n",
    "print(\"shape of input - testing set\", x_test.shape)\n",
    "print(\"shape of output - testing set\", y_test.shape)"
   ]
  },
  {
   "cell_type": "markdown",
   "metadata": {
    "id": "CsSUHR8Cs9vV",
    "tags": []
   },
   "source": [
    "# Practical 4\n",
    "Feature subset selection with Sci Kit learn"
   ]
  },
  {
   "cell_type": "code",
   "execution_count": 153,
   "metadata": {},
   "outputs": [],
   "source": [
    "import seaborn as sns \n",
    "%matplotlib inline"
   ]
  },
  {
   "cell_type": "code",
   "execution_count": 162,
   "metadata": {},
   "outputs": [],
   "source": [
    "from sklearn.datasets import load_breast_cancer \n",
    "from sklearn.preprocessing import StandardScaler\n",
    "from sklearn.decomposition import PCA"
   ]
  },
  {
   "cell_type": "code",
   "execution_count": 158,
   "metadata": {},
   "outputs": [
    {
     "name": "stdout",
     "output_type": "stream",
     "text": [
      "(569, 30)\n"
     ]
    },
    {
     "data": {
      "text/html": [
       "<div>\n",
       "<style scoped>\n",
       "    .dataframe tbody tr th:only-of-type {\n",
       "        vertical-align: middle;\n",
       "    }\n",
       "\n",
       "    .dataframe tbody tr th {\n",
       "        vertical-align: top;\n",
       "    }\n",
       "\n",
       "    .dataframe thead th {\n",
       "        text-align: right;\n",
       "    }\n",
       "</style>\n",
       "<table border=\"1\" class=\"dataframe\">\n",
       "  <thead>\n",
       "    <tr style=\"text-align: right;\">\n",
       "      <th></th>\n",
       "      <th>mean radius</th>\n",
       "      <th>mean texture</th>\n",
       "      <th>mean perimeter</th>\n",
       "      <th>mean area</th>\n",
       "      <th>mean smoothness</th>\n",
       "      <th>mean compactness</th>\n",
       "      <th>mean concavity</th>\n",
       "      <th>mean concave points</th>\n",
       "      <th>mean symmetry</th>\n",
       "      <th>mean fractal dimension</th>\n",
       "      <th>...</th>\n",
       "      <th>worst radius</th>\n",
       "      <th>worst texture</th>\n",
       "      <th>worst perimeter</th>\n",
       "      <th>worst area</th>\n",
       "      <th>worst smoothness</th>\n",
       "      <th>worst compactness</th>\n",
       "      <th>worst concavity</th>\n",
       "      <th>worst concave points</th>\n",
       "      <th>worst symmetry</th>\n",
       "      <th>worst fractal dimension</th>\n",
       "    </tr>\n",
       "  </thead>\n",
       "  <tbody>\n",
       "    <tr>\n",
       "      <th>0</th>\n",
       "      <td>17.99</td>\n",
       "      <td>10.38</td>\n",
       "      <td>122.80</td>\n",
       "      <td>1001.0</td>\n",
       "      <td>0.11840</td>\n",
       "      <td>0.27760</td>\n",
       "      <td>0.3001</td>\n",
       "      <td>0.14710</td>\n",
       "      <td>0.2419</td>\n",
       "      <td>0.07871</td>\n",
       "      <td>...</td>\n",
       "      <td>25.38</td>\n",
       "      <td>17.33</td>\n",
       "      <td>184.60</td>\n",
       "      <td>2019.0</td>\n",
       "      <td>0.1622</td>\n",
       "      <td>0.6656</td>\n",
       "      <td>0.7119</td>\n",
       "      <td>0.2654</td>\n",
       "      <td>0.4601</td>\n",
       "      <td>0.11890</td>\n",
       "    </tr>\n",
       "    <tr>\n",
       "      <th>1</th>\n",
       "      <td>20.57</td>\n",
       "      <td>17.77</td>\n",
       "      <td>132.90</td>\n",
       "      <td>1326.0</td>\n",
       "      <td>0.08474</td>\n",
       "      <td>0.07864</td>\n",
       "      <td>0.0869</td>\n",
       "      <td>0.07017</td>\n",
       "      <td>0.1812</td>\n",
       "      <td>0.05667</td>\n",
       "      <td>...</td>\n",
       "      <td>24.99</td>\n",
       "      <td>23.41</td>\n",
       "      <td>158.80</td>\n",
       "      <td>1956.0</td>\n",
       "      <td>0.1238</td>\n",
       "      <td>0.1866</td>\n",
       "      <td>0.2416</td>\n",
       "      <td>0.1860</td>\n",
       "      <td>0.2750</td>\n",
       "      <td>0.08902</td>\n",
       "    </tr>\n",
       "    <tr>\n",
       "      <th>2</th>\n",
       "      <td>19.69</td>\n",
       "      <td>21.25</td>\n",
       "      <td>130.00</td>\n",
       "      <td>1203.0</td>\n",
       "      <td>0.10960</td>\n",
       "      <td>0.15990</td>\n",
       "      <td>0.1974</td>\n",
       "      <td>0.12790</td>\n",
       "      <td>0.2069</td>\n",
       "      <td>0.05999</td>\n",
       "      <td>...</td>\n",
       "      <td>23.57</td>\n",
       "      <td>25.53</td>\n",
       "      <td>152.50</td>\n",
       "      <td>1709.0</td>\n",
       "      <td>0.1444</td>\n",
       "      <td>0.4245</td>\n",
       "      <td>0.4504</td>\n",
       "      <td>0.2430</td>\n",
       "      <td>0.3613</td>\n",
       "      <td>0.08758</td>\n",
       "    </tr>\n",
       "    <tr>\n",
       "      <th>3</th>\n",
       "      <td>11.42</td>\n",
       "      <td>20.38</td>\n",
       "      <td>77.58</td>\n",
       "      <td>386.1</td>\n",
       "      <td>0.14250</td>\n",
       "      <td>0.28390</td>\n",
       "      <td>0.2414</td>\n",
       "      <td>0.10520</td>\n",
       "      <td>0.2597</td>\n",
       "      <td>0.09744</td>\n",
       "      <td>...</td>\n",
       "      <td>14.91</td>\n",
       "      <td>26.50</td>\n",
       "      <td>98.87</td>\n",
       "      <td>567.7</td>\n",
       "      <td>0.2098</td>\n",
       "      <td>0.8663</td>\n",
       "      <td>0.6869</td>\n",
       "      <td>0.2575</td>\n",
       "      <td>0.6638</td>\n",
       "      <td>0.17300</td>\n",
       "    </tr>\n",
       "    <tr>\n",
       "      <th>4</th>\n",
       "      <td>20.29</td>\n",
       "      <td>14.34</td>\n",
       "      <td>135.10</td>\n",
       "      <td>1297.0</td>\n",
       "      <td>0.10030</td>\n",
       "      <td>0.13280</td>\n",
       "      <td>0.1980</td>\n",
       "      <td>0.10430</td>\n",
       "      <td>0.1809</td>\n",
       "      <td>0.05883</td>\n",
       "      <td>...</td>\n",
       "      <td>22.54</td>\n",
       "      <td>16.67</td>\n",
       "      <td>152.20</td>\n",
       "      <td>1575.0</td>\n",
       "      <td>0.1374</td>\n",
       "      <td>0.2050</td>\n",
       "      <td>0.4000</td>\n",
       "      <td>0.1625</td>\n",
       "      <td>0.2364</td>\n",
       "      <td>0.07678</td>\n",
       "    </tr>\n",
       "  </tbody>\n",
       "</table>\n",
       "<p>5 rows × 30 columns</p>\n",
       "</div>"
      ],
      "text/plain": [
       "   mean radius  mean texture  mean perimeter  mean area  mean smoothness  \\\n",
       "0        17.99         10.38          122.80     1001.0          0.11840   \n",
       "1        20.57         17.77          132.90     1326.0          0.08474   \n",
       "2        19.69         21.25          130.00     1203.0          0.10960   \n",
       "3        11.42         20.38           77.58      386.1          0.14250   \n",
       "4        20.29         14.34          135.10     1297.0          0.10030   \n",
       "\n",
       "   mean compactness  mean concavity  mean concave points  mean symmetry  \\\n",
       "0           0.27760          0.3001              0.14710         0.2419   \n",
       "1           0.07864          0.0869              0.07017         0.1812   \n",
       "2           0.15990          0.1974              0.12790         0.2069   \n",
       "3           0.28390          0.2414              0.10520         0.2597   \n",
       "4           0.13280          0.1980              0.10430         0.1809   \n",
       "\n",
       "   mean fractal dimension  ...  worst radius  worst texture  worst perimeter  \\\n",
       "0                 0.07871  ...         25.38          17.33           184.60   \n",
       "1                 0.05667  ...         24.99          23.41           158.80   \n",
       "2                 0.05999  ...         23.57          25.53           152.50   \n",
       "3                 0.09744  ...         14.91          26.50            98.87   \n",
       "4                 0.05883  ...         22.54          16.67           152.20   \n",
       "\n",
       "   worst area  worst smoothness  worst compactness  worst concavity  \\\n",
       "0      2019.0            0.1622             0.6656           0.7119   \n",
       "1      1956.0            0.1238             0.1866           0.2416   \n",
       "2      1709.0            0.1444             0.4245           0.4504   \n",
       "3       567.7            0.2098             0.8663           0.6869   \n",
       "4      1575.0            0.1374             0.2050           0.4000   \n",
       "\n",
       "   worst concave points  worst symmetry  worst fractal dimension  \n",
       "0                0.2654          0.4601                  0.11890  \n",
       "1                0.1860          0.2750                  0.08902  \n",
       "2                0.2430          0.3613                  0.08758  \n",
       "3                0.2575          0.6638                  0.17300  \n",
       "4                0.1625          0.2364                  0.07678  \n",
       "\n",
       "[5 rows x 30 columns]"
      ]
     },
     "execution_count": 158,
     "metadata": {},
     "output_type": "execute_result"
    }
   ],
   "source": [
    "cancer=load_breast_cancer()\n",
    "df=pd.DataFrame(cancer['data'], columns=cancer['feature_names'])\n",
    "print(df.shape)\n",
    "df.head()"
   ]
  },
  {
   "cell_type": "code",
   "execution_count": 164,
   "metadata": {},
   "outputs": [
    {
     "data": {
      "text/plain": [
       "(569, 2)"
      ]
     },
     "execution_count": 164,
     "metadata": {},
     "output_type": "execute_result"
    }
   ],
   "source": [
    "scalar=StandardScaler()\n",
    "scalar.fit(df)\n",
    "scaled_data=scalar.transform(df)\n",
    "\n",
    "pca=PCA(n_components=2) \n",
    "pca.fit(scaled_data) \n",
    "x_pca=pca.transform(scaled_data) \n",
    "x_pca.shape"
   ]
  },
  {
   "cell_type": "code",
   "execution_count": 166,
   "metadata": {},
   "outputs": [
    {
     "data": {
      "text/plain": [
       "Text(0, 0.5, 'Second Principal Component')"
      ]
     },
     "execution_count": 166,
     "metadata": {},
     "output_type": "execute_result"
    },
    {
     "data": {
      "image/png": "[encoded data removed]",
      "text/plain": [
       "<Figure size 576x432 with 1 Axes>"
      ]
     },
     "metadata": {
      "needs_background": "light"
     },
     "output_type": "display_data"
    }
   ],
   "source": [
    "plt.figure(figsize=(8,6))\n",
    "plt.scatter(x_pca[:,0],x_pca[:,1], c=cancer['target'], cmap='rainbow') \n",
    "plt.xlabel('First principal component')\n",
    "plt.ylabel('Second Principal Component')"
   ]
  },
  {
   "cell_type": "code",
   "execution_count": 167,
   "metadata": {},
   "outputs": [
    {
     "data": {
      "text/plain": [
       "array([[ 0.21890244,  0.10372458,  0.22753729,  0.22099499,  0.14258969,\n",
       "         0.23928535,  0.25840048,  0.26085376,  0.13816696,  0.06436335,\n",
       "         0.20597878,  0.01742803,  0.21132592,  0.20286964,  0.01453145,\n",
       "         0.17039345,  0.15358979,  0.1834174 ,  0.04249842,  0.10256832,\n",
       "         0.22799663,  0.10446933,  0.23663968,  0.22487053,  0.12795256,\n",
       "         0.21009588,  0.22876753,  0.25088597,  0.12290456,  0.13178394],\n",
       "       [-0.23385713, -0.05970609, -0.21518136, -0.23107671,  0.18611302,\n",
       "         0.15189161,  0.06016536, -0.0347675 ,  0.19034877,  0.36657547,\n",
       "        -0.10555215,  0.08997968, -0.08945723, -0.15229263,  0.20443045,\n",
       "         0.2327159 ,  0.19720728,  0.13032156,  0.183848  ,  0.28009203,\n",
       "        -0.21986638, -0.0454673 , -0.19987843, -0.21935186,  0.17230435,\n",
       "         0.14359317,  0.09796411, -0.00825724,  0.14188335,  0.27533947]])"
      ]
     },
     "execution_count": 167,
     "metadata": {},
     "output_type": "execute_result"
    }
   ],
   "source": [
    "pca.components_"
   ]
  },
  {
   "cell_type": "markdown",
   "metadata": {
    "id": "CsSUHR8Cs9vV",
    "tags": []
   },
   "source": [
    "# Practical 5\n",
    "Building Prediction Model in Python(intro)"
   ]
  },
  {
   "cell_type": "code",
   "execution_count": 168,
   "metadata": {},
   "outputs": [],
   "source": [
    "from scipy.stats import pearsonr"
   ]
  },
  {
   "cell_type": "code",
   "execution_count": 172,
   "metadata": {},
   "outputs": [
    {
     "name": "stdout",
     "output_type": "stream",
     "text": [
      "Pearsons correlation: -0.832\n"
     ]
    }
   ],
   "source": [
    "df=pd.read_csv(\"auto-mpg.csv\") \n",
    "list1=df[\"weight\"]\n",
    "list2=df[\"mpg\"] \n",
    "corr,_=pearsonr(list1,list2) \n",
    "print(\"Pearsons correlation: %.3f\"%corr)"
   ]
  },
  {
   "cell_type": "code",
   "execution_count": 171,
   "metadata": {},
   "outputs": [],
   "source": [
    "import scipy.stats as stats"
   ]
  },
  {
   "cell_type": "code",
   "execution_count": 173,
   "metadata": {},
   "outputs": [
    {
     "name": "stdout",
     "output_type": "stream",
     "text": [
      "0.960576518918945\n",
      "1.0076332440506521e-05\n"
     ]
    },
    {
     "data": {
      "image/png": "[encoded data removed]",
      "text/plain": [
       "<Figure size 432x288 with 1 Axes>"
      ]
     },
     "metadata": {
      "needs_background": "light"
     },
     "output_type": "display_data"
    }
   ],
   "source": [
    "x=np.arange(1,11) \n",
    "y=np.array([2,1,4,5,8,12,18,25,30,27]) \n",
    "plt.scatter(x,y)\n",
    "plt.plot(x,y) \n",
    "correlation_coeff,p_value=stats.pearsonr(x,y)\n",
    "print(correlation_coeff)\n",
    "print(p_value)"
   ]
  },
  {
   "cell_type": "code",
   "execution_count": 180,
   "metadata": {},
   "outputs": [],
   "source": [
    "from sklearn.feature_selection import SelectKBest \n",
    "from sklearn.feature_selection import chi2\n",
    "from sklearn import datasets"
   ]
  },
  {
   "cell_type": "code",
   "execution_count": 176,
   "metadata": {},
   "outputs": [],
   "source": [
    "data=pd.read_csv('apndcts.csv')"
   ]
  },
  {
   "cell_type": "code",
   "execution_count": 177,
   "metadata": {},
   "outputs": [
    {
     "data": {
      "text/plain": [
       "SelectKBest(k=2, score_func=<function chi2 at 0x12fa0c430>)"
      ]
     },
     "execution_count": 177,
     "metadata": {},
     "output_type": "execute_result"
    }
   ],
   "source": [
    "predictors=data.iloc[:,0:7] \n",
    "target=data.iloc[:,7] \n",
    "test=SelectKBest(chi2,k=2)\n",
    "test"
   ]
  },
  {
   "cell_type": "code",
   "execution_count": 178,
   "metadata": {},
   "outputs": [
    {
     "name": "stdout",
     "output_type": "stream",
     "text": [
      "Index(['At1', ' At2', ' At3', ' At4', ' At5', ' At6', ' At7'], dtype='object')\n"
     ]
    }
   ],
   "source": [
    "fit=test.fit(predictors,target)\n",
    "features=fit.transform(predictors)\n",
    "print(predictors.columns)\n",
    "np.set_printoptions(precision=3)"
   ]
  },
  {
   "cell_type": "code",
   "execution_count": 179,
   "metadata": {},
   "outputs": [
    {
     "data": {
      "text/plain": [
       "array([1.771, 1.627, 2.391, 1.084, 1.673, 1.647, 2.236])"
      ]
     },
     "execution_count": 179,
     "metadata": {},
     "output_type": "execute_result"
    }
   ],
   "source": [
    "fit.scores_"
   ]
  },
  {
   "cell_type": "code",
   "execution_count": 188,
   "metadata": {},
   "outputs": [
    {
     "name": "stdout",
     "output_type": "stream",
     "text": [
      "[[5.640e+00 1.065e+03]\n",
      " [4.380e+00 1.050e+03]\n",
      " [5.680e+00 1.185e+03]\n",
      " [7.800e+00 1.480e+03]\n",
      " [4.320e+00 7.350e+02]\n",
      " [6.750e+00 1.450e+03]\n",
      " [5.250e+00 1.290e+03]\n",
      " [5.050e+00 1.295e+03]\n",
      " [5.200e+00 1.045e+03]\n",
      " [7.220e+00 1.045e+03]\n",
      " [5.750e+00 1.510e+03]\n",
      " [5.000e+00 1.280e+03]\n",
      " [5.600e+00 1.320e+03]\n",
      " [5.400e+00 1.150e+03]\n",
      " [7.500e+00 1.547e+03]\n",
      " [7.300e+00 1.310e+03]\n",
      " [6.200e+00 1.280e+03]\n",
      " [6.600e+00 1.130e+03]\n",
      " [8.700e+00 1.680e+03]\n",
      " [5.100e+00 8.450e+02]\n",
      " [5.650e+00 7.800e+02]\n",
      " [4.500e+00 7.700e+02]\n",
      " [3.800e+00 1.035e+03]\n",
      " [3.930e+00 1.015e+03]\n",
      " [3.520e+00 8.450e+02]\n",
      " [3.580e+00 8.300e+02]\n",
      " [4.800e+00 1.195e+03]\n",
      " [3.950e+00 1.285e+03]\n",
      " [4.500e+00 9.150e+02]\n",
      " [4.700e+00 1.035e+03]\n",
      " [5.700e+00 1.285e+03]\n",
      " [6.900e+00 1.515e+03]\n",
      " [3.840e+00 9.900e+02]\n",
      " [5.400e+00 1.235e+03]\n",
      " [4.200e+00 1.095e+03]\n",
      " [5.100e+00 9.200e+02]\n",
      " [4.600e+00 8.800e+02]\n",
      " [4.250e+00 1.105e+03]\n",
      " [3.700e+00 1.020e+03]\n",
      " [5.100e+00 7.600e+02]\n",
      " [6.130e+00 7.950e+02]\n",
      " [4.280e+00 1.035e+03]\n",
      " [5.430e+00 1.095e+03]\n",
      " [4.360e+00 6.800e+02]\n",
      " [5.040e+00 8.850e+02]\n",
      " [5.240e+00 1.080e+03]\n",
      " [4.900e+00 1.065e+03]\n",
      " [6.100e+00 9.850e+02]\n",
      " [6.200e+00 1.060e+03]\n",
      " [8.900e+00 1.260e+03]\n",
      " [7.200e+00 1.150e+03]\n",
      " [5.600e+00 1.265e+03]\n",
      " [7.050e+00 1.190e+03]\n",
      " [6.300e+00 1.375e+03]\n",
      " [5.850e+00 1.060e+03]\n",
      " [6.250e+00 1.120e+03]\n",
      " [6.380e+00 9.700e+02]\n",
      " [6.000e+00 1.270e+03]\n",
      " [6.800e+00 1.285e+03]\n",
      " [1.950e+00 5.200e+02]\n",
      " [3.270e+00 6.800e+02]\n",
      " [5.750e+00 4.500e+02]\n",
      " [3.800e+00 6.300e+02]\n",
      " [4.450e+00 4.200e+02]\n",
      " [2.950e+00 3.550e+02]\n",
      " [4.600e+00 6.780e+02]\n",
      " [5.300e+00 5.020e+02]\n",
      " [4.680e+00 5.100e+02]\n",
      " [3.170e+00 7.500e+02]\n",
      " [2.850e+00 7.180e+02]\n",
      " [3.050e+00 8.700e+02]\n",
      " [3.380e+00 4.100e+02]\n",
      " [3.740e+00 4.720e+02]\n",
      " [3.350e+00 9.850e+02]\n",
      " [3.210e+00 8.860e+02]\n",
      " [3.800e+00 4.280e+02]\n",
      " [4.600e+00 3.920e+02]\n",
      " [2.650e+00 5.000e+02]\n",
      " [3.400e+00 7.500e+02]\n",
      " [2.570e+00 4.630e+02]\n",
      " [2.500e+00 2.780e+02]\n",
      " [3.900e+00 7.140e+02]\n",
      " [2.200e+00 6.300e+02]\n",
      " [4.800e+00 5.150e+02]\n",
      " [3.050e+00 5.200e+02]\n",
      " [2.620e+00 4.500e+02]\n",
      " [2.450e+00 4.950e+02]\n",
      " [2.600e+00 5.620e+02]\n",
      " [2.800e+00 6.800e+02]\n",
      " [1.740e+00 6.250e+02]\n",
      " [2.400e+00 4.800e+02]\n",
      " [3.600e+00 4.500e+02]\n",
      " [3.050e+00 4.950e+02]\n",
      " [2.150e+00 2.900e+02]\n",
      " [3.250e+00 3.450e+02]\n",
      " [2.600e+00 9.370e+02]\n",
      " [2.500e+00 6.250e+02]\n",
      " [2.900e+00 4.280e+02]\n",
      " [4.500e+00 6.600e+02]\n",
      " [2.300e+00 4.060e+02]\n",
      " [3.300e+00 7.100e+02]\n",
      " [2.450e+00 5.620e+02]\n",
      " [2.800e+00 4.380e+02]\n",
      " [2.060e+00 4.150e+02]\n",
      " [2.940e+00 6.720e+02]\n",
      " [2.700e+00 3.150e+02]\n",
      " [3.400e+00 5.100e+02]\n",
      " [3.300e+00 4.880e+02]\n",
      " [2.700e+00 3.120e+02]\n",
      " [2.650e+00 6.800e+02]\n",
      " [2.900e+00 5.620e+02]\n",
      " [2.000e+00 3.250e+02]\n",
      " [3.800e+00 6.070e+02]\n",
      " [3.080e+00 4.340e+02]\n",
      " [2.900e+00 3.850e+02]\n",
      " [1.900e+00 4.070e+02]\n",
      " [1.950e+00 4.950e+02]\n",
      " [2.060e+00 3.450e+02]\n",
      " [3.400e+00 3.720e+02]\n",
      " [1.280e+00 5.640e+02]\n",
      " [3.250e+00 6.250e+02]\n",
      " [6.000e+00 4.650e+02]\n",
      " [2.080e+00 3.650e+02]\n",
      " [2.600e+00 3.800e+02]\n",
      " [2.800e+00 3.800e+02]\n",
      " [2.760e+00 3.780e+02]\n",
      " [3.940e+00 3.520e+02]\n",
      " [3.000e+00 4.660e+02]\n",
      " [2.120e+00 3.420e+02]\n",
      " [2.600e+00 5.800e+02]\n",
      " [4.100e+00 6.300e+02]\n",
      " [5.400e+00 5.300e+02]\n",
      " [5.700e+00 5.600e+02]\n",
      " [5.000e+00 6.000e+02]\n",
      " [5.450e+00 6.500e+02]\n",
      " [7.100e+00 6.950e+02]\n",
      " [3.850e+00 7.200e+02]\n",
      " [5.000e+00 5.150e+02]\n",
      " [5.700e+00 5.800e+02]\n",
      " [4.920e+00 5.900e+02]\n",
      " [4.600e+00 6.000e+02]\n",
      " [5.600e+00 7.800e+02]\n",
      " [4.350e+00 5.200e+02]\n",
      " [4.400e+00 5.500e+02]\n",
      " [8.210e+00 8.550e+02]\n",
      " [4.000e+00 8.300e+02]\n",
      " [4.900e+00 4.150e+02]\n",
      " [7.650e+00 6.250e+02]\n",
      " [8.420e+00 6.500e+02]\n",
      " [9.400e+00 5.500e+02]\n",
      " [8.600e+00 5.000e+02]\n",
      " [1.080e+01 4.800e+02]\n",
      " [7.100e+00 4.250e+02]\n",
      " [1.052e+01 6.750e+02]\n",
      " [7.600e+00 6.400e+02]\n",
      " [7.900e+00 7.250e+02]\n",
      " [9.010e+00 4.800e+02]\n",
      " [7.500e+00 8.800e+02]\n",
      " [1.300e+01 6.600e+02]\n",
      " [1.175e+01 6.200e+02]\n",
      " [7.650e+00 5.200e+02]\n",
      " [5.880e+00 6.800e+02]\n",
      " [5.580e+00 5.700e+02]\n",
      " [5.280e+00 6.750e+02]\n",
      " [9.580e+00 6.150e+02]\n",
      " [6.620e+00 5.200e+02]\n",
      " [1.068e+01 6.950e+02]\n",
      " [1.026e+01 6.850e+02]\n",
      " [8.660e+00 7.500e+02]\n",
      " [8.500e+00 6.300e+02]\n",
      " [5.500e+00 5.100e+02]\n",
      " [9.900e+00 4.700e+02]\n",
      " [9.700e+00 6.600e+02]\n",
      " [7.700e+00 7.400e+02]\n",
      " [7.300e+00 7.500e+02]\n",
      " [1.020e+01 8.350e+02]\n",
      " [9.300e+00 8.400e+02]\n",
      " [9.200e+00 5.600e+02]]\n",
      "\n",
      "Original number of features:  (178, 13)\n",
      "Reduced number of features  (178, 2)\n"
     ]
    }
   ],
   "source": [
    "wine=datasets.load_wine()\n",
    "X=wine.data\n",
    "Y=wine.target\n",
    "print(X_KBest)\n",
    "print()\n",
    "chi2_selector=SelectKBest(chi2,k=2)\n",
    "X_KBest=chi2_selector.fit_transform(X,Y)\n",
    "print(\"Original number of features: \",X.shape)\n",
    "print(\"Reduced number of features \",X_KBest.shape)"
   ]
  },
  {
   "cell_type": "code",
   "execution_count": null,
   "metadata": {},
   "outputs": [],
   "source": []
  }
 ],
 "metadata": {
  "colab": {
   "collapsed_sections": [],
   "name": "ML.ipynb",
   "provenance": []
  },
  "kernelspec": {
   "display_name": "Python 3 (ipykernel)",
   "language": "python",
   "name": "python3"
  },
  "language_info": {
   "codemirror_mode": {
    "name": "ipython",
    "version": 3
   },
   "file_extension": ".py",
   "mimetype": "text/x-python",
   "name": "python",
   "nbconvert_exporter": "python",
   "pygments_lexer": "ipython3",
   "version": "3.9.5"
  }
 },
 "nbformat": 4,
 "nbformat_minor": 4
}
